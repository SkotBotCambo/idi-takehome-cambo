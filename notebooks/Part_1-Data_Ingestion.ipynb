{
 "cells": [
  {
   "cell_type": "markdown",
   "id": "343ed78e-387d-4c4c-b9cf-21739616c46e",
   "metadata": {},
   "source": [
    "# Part 1: Data Ingestion\n",
    "Ingest the data: figure out a way to put the data in a structure so that you can query it as described in Part 2.\n"
   ]
  },
  {
   "cell_type": "markdown",
   "id": "f17ca001-bdde-4d02-8b09-e7a431e9c4c0",
   "metadata": {},
   "source": [
    "## Loading and Understanding the Data"
   ]
  },
  {
   "cell_type": "code",
   "execution_count": 2,
   "id": "b6845e5e-5781-49e0-a0c4-90a9e0576e5e",
   "metadata": {},
   "outputs": [],
   "source": [
    "from pathlib import Path\n",
    "import pandas as pd\n",
    "from tqdm.auto import tqdm\n",
    "import time"
   ]
  },
  {
   "cell_type": "code",
   "execution_count": 3,
   "id": "3cb5134f-e9dd-46e6-a26b-d551885369a7",
   "metadata": {},
   "outputs": [],
   "source": [
    "small_tsv = '../data/Copy of correct_twitter_201904.tsv'\n",
    "large_tsv = '../data/Copy of correct_twitter_202102.tsv'"
   ]
  },
  {
   "cell_type": "code",
   "execution_count": 7,
   "id": "466f7c2c-ad59-4df3-ba17-2920bb4826b6",
   "metadata": {
    "scrolled": true
   },
   "outputs": [
    {
     "name": "stderr",
     "output_type": "stream",
     "text": [
      "/tmp/ipykernel_197/2901303805.py:1: DtypeWarning: Columns (0,4,5,7,8,9,10,11,12,13,20,29) have mixed types. Specify dtype option on import or set low_memory=False.\n",
      "  df = pd.read_csv(large_tsv,\n"
     ]
    },
    {
     "data": {
      "text/html": [
       "<div>\n",
       "<style scoped>\n",
       "    .dataframe tbody tr th:only-of-type {\n",
       "        vertical-align: middle;\n",
       "    }\n",
       "\n",
       "    .dataframe tbody tr th {\n",
       "        vertical-align: top;\n",
       "    }\n",
       "\n",
       "    .dataframe thead th {\n",
       "        text-align: right;\n",
       "    }\n",
       "</style>\n",
       "<table border=\"1\" class=\"dataframe\">\n",
       "  <thead>\n",
       "    <tr style=\"text-align: right;\">\n",
       "      <th></th>\n",
       "      <th>id</th>\n",
       "      <th>event</th>\n",
       "      <th>ts1</th>\n",
       "      <th>ts2</th>\n",
       "      <th>from_stream</th>\n",
       "      <th>directly_from_stream</th>\n",
       "      <th>from_search</th>\n",
       "      <th>directly_from_search</th>\n",
       "      <th>from_quote_search</th>\n",
       "      <th>directly_from_quote_search</th>\n",
       "      <th>...</th>\n",
       "      <th>retweeted</th>\n",
       "      <th>retweeted_author_id</th>\n",
       "      <th>retweeted_handle</th>\n",
       "      <th>retweeted_follower_count</th>\n",
       "      <th>mentioned_author_ids</th>\n",
       "      <th>mentioned_handles</th>\n",
       "      <th>hashtags</th>\n",
       "      <th>urls</th>\n",
       "      <th>media_keys</th>\n",
       "      <th>place_id</th>\n",
       "    </tr>\n",
       "  </thead>\n",
       "  <tbody>\n",
       "    <tr>\n",
       "      <th>0</th>\n",
       "      <td>1358322479136178177</td>\n",
       "      <td>britney_202102</td>\n",
       "      <td>2022-03-01 09:06:52.403595-05:00</td>\n",
       "      <td>2022-03-01 09:06:52.403595-05:00</td>\n",
       "      <td>True</td>\n",
       "      <td>True</td>\n",
       "      <td>False</td>\n",
       "      <td>False</td>\n",
       "      <td>False</td>\n",
       "      <td>False</td>\n",
       "      <td>...</td>\n",
       "      <td>1.358249e+18</td>\n",
       "      <td>9.325937e+07</td>\n",
       "      <td>briebxrries</td>\n",
       "      <td>1002.0</td>\n",
       "      <td>NaN</td>\n",
       "      <td>NaN</td>\n",
       "      <td>NaN</td>\n",
       "      <td>NaN</td>\n",
       "      <td>NaN</td>\n",
       "      <td>NaN</td>\n",
       "    </tr>\n",
       "    <tr>\n",
       "      <th>1</th>\n",
       "      <td>1358323016736796677</td>\n",
       "      <td>britney_202102</td>\n",
       "      <td>2022-01-05 08:34:04.477789-05:00</td>\n",
       "      <td>2022-03-01 09:06:52.398778-05:00</td>\n",
       "      <td>True</td>\n",
       "      <td>True</td>\n",
       "      <td>False</td>\n",
       "      <td>False</td>\n",
       "      <td>False</td>\n",
       "      <td>False</td>\n",
       "      <td>...</td>\n",
       "      <td>1.358189e+18</td>\n",
       "      <td>1.752517e+07</td>\n",
       "      <td>Variety</td>\n",
       "      <td>2669599.0</td>\n",
       "      <td>NaN</td>\n",
       "      <td>NaN</td>\n",
       "      <td>['FreeBritney']</td>\n",
       "      <td>NaN</td>\n",
       "      <td>NaN</td>\n",
       "      <td>NaN</td>\n",
       "    </tr>\n",
       "    <tr>\n",
       "      <th>2</th>\n",
       "      <td>1358322996696465409</td>\n",
       "      <td>britney_202102</td>\n",
       "      <td>2022-03-01 09:06:52.399008-05:00</td>\n",
       "      <td>2022-03-01 09:06:52.399008-05:00</td>\n",
       "      <td>True</td>\n",
       "      <td>True</td>\n",
       "      <td>False</td>\n",
       "      <td>False</td>\n",
       "      <td>False</td>\n",
       "      <td>False</td>\n",
       "      <td>...</td>\n",
       "      <td>1.358201e+18</td>\n",
       "      <td>4.035766e+08</td>\n",
       "      <td>Johnnerkell</td>\n",
       "      <td>2650.0</td>\n",
       "      <td>NaN</td>\n",
       "      <td>NaN</td>\n",
       "      <td>NaN</td>\n",
       "      <td>NaN</td>\n",
       "      <td>NaN</td>\n",
       "      <td>NaN</td>\n",
       "    </tr>\n",
       "    <tr>\n",
       "      <th>3</th>\n",
       "      <td>1358322976769286151</td>\n",
       "      <td>britney_202102</td>\n",
       "      <td>2022-03-01 09:06:52.399205-05:00</td>\n",
       "      <td>2022-03-01 09:06:52.399205-05:00</td>\n",
       "      <td>True</td>\n",
       "      <td>True</td>\n",
       "      <td>False</td>\n",
       "      <td>False</td>\n",
       "      <td>False</td>\n",
       "      <td>False</td>\n",
       "      <td>...</td>\n",
       "      <td>1.358238e+18</td>\n",
       "      <td>4.429004e+09</td>\n",
       "      <td>PopCrave</td>\n",
       "      <td>880695.0</td>\n",
       "      <td>NaN</td>\n",
       "      <td>NaN</td>\n",
       "      <td>['FramingBritney']</td>\n",
       "      <td>NaN</td>\n",
       "      <td>NaN</td>\n",
       "      <td>NaN</td>\n",
       "    </tr>\n",
       "    <tr>\n",
       "      <th>4</th>\n",
       "      <td>1368923802260889606</td>\n",
       "      <td>britney_202102</td>\n",
       "      <td>2022-03-01 07:26:05.505986-05:00</td>\n",
       "      <td>2022-03-01 07:26:05.505986-05:00</td>\n",
       "      <td>True</td>\n",
       "      <td>True</td>\n",
       "      <td>False</td>\n",
       "      <td>False</td>\n",
       "      <td>False</td>\n",
       "      <td>False</td>\n",
       "      <td>...</td>\n",
       "      <td>NaN</td>\n",
       "      <td>NaN</td>\n",
       "      <td>NaN</td>\n",
       "      <td>NaN</td>\n",
       "      <td>NaN</td>\n",
       "      <td>NaN</td>\n",
       "      <td>NaN</td>\n",
       "      <td>NaN</td>\n",
       "      <td>NaN</td>\n",
       "      <td>NaN</td>\n",
       "    </tr>\n",
       "  </tbody>\n",
       "</table>\n",
       "<p>5 rows × 46 columns</p>\n",
       "</div>"
      ],
      "text/plain": [
       "                    id           event                               ts1  \\\n",
       "0  1358322479136178177  britney_202102  2022-03-01 09:06:52.403595-05:00   \n",
       "1  1358323016736796677  britney_202102  2022-01-05 08:34:04.477789-05:00   \n",
       "2  1358322996696465409  britney_202102  2022-03-01 09:06:52.399008-05:00   \n",
       "3  1358322976769286151  britney_202102  2022-03-01 09:06:52.399205-05:00   \n",
       "4  1368923802260889606  britney_202102  2022-03-01 07:26:05.505986-05:00   \n",
       "\n",
       "                                ts2 from_stream directly_from_stream  \\\n",
       "0  2022-03-01 09:06:52.403595-05:00        True                 True   \n",
       "1  2022-03-01 09:06:52.398778-05:00        True                 True   \n",
       "2  2022-03-01 09:06:52.399008-05:00        True                 True   \n",
       "3  2022-03-01 09:06:52.399205-05:00        True                 True   \n",
       "4  2022-03-01 07:26:05.505986-05:00        True                 True   \n",
       "\n",
       "   from_search directly_from_search from_quote_search  \\\n",
       "0        False                False             False   \n",
       "1        False                False             False   \n",
       "2        False                False             False   \n",
       "3        False                False             False   \n",
       "4        False                False             False   \n",
       "\n",
       "  directly_from_quote_search  ...     retweeted retweeted_author_id  \\\n",
       "0                      False  ...  1.358249e+18        9.325937e+07   \n",
       "1                      False  ...  1.358189e+18        1.752517e+07   \n",
       "2                      False  ...  1.358201e+18        4.035766e+08   \n",
       "3                      False  ...  1.358238e+18        4.429004e+09   \n",
       "4                      False  ...           NaN                 NaN   \n",
       "\n",
       "  retweeted_handle retweeted_follower_count mentioned_author_ids  \\\n",
       "0      briebxrries                   1002.0                  NaN   \n",
       "1          Variety                2669599.0                  NaN   \n",
       "2      Johnnerkell                   2650.0                  NaN   \n",
       "3         PopCrave                 880695.0                  NaN   \n",
       "4              NaN                      NaN                  NaN   \n",
       "\n",
       "  mentioned_handles            hashtags urls media_keys  place_id  \n",
       "0               NaN                 NaN  NaN        NaN       NaN  \n",
       "1               NaN     ['FreeBritney']  NaN        NaN       NaN  \n",
       "2               NaN                 NaN  NaN        NaN       NaN  \n",
       "3               NaN  ['FramingBritney']  NaN        NaN       NaN  \n",
       "4               NaN                 NaN  NaN        NaN       NaN  \n",
       "\n",
       "[5 rows x 46 columns]"
      ]
     },
     "execution_count": 7,
     "metadata": {},
     "output_type": "execute_result"
    }
   ],
   "source": [
    "df = pd.read_csv(large_tsv, \n",
    "                 sep=\"\\t\",\n",
    "                 # nrows=100 # comment out to load entire dataset\n",
    "                )\n",
    "df.head()"
   ]
  },
  {
   "cell_type": "code",
   "execution_count": 32,
   "id": "ce3b5e1e-d4c6-48b3-912b-7ecb6faa0415",
   "metadata": {},
   "outputs": [
    {
     "data": {
      "text/html": [
       "<div>\n",
       "<style scoped>\n",
       "    .dataframe tbody tr th:only-of-type {\n",
       "        vertical-align: middle;\n",
       "    }\n",
       "\n",
       "    .dataframe tbody tr th {\n",
       "        vertical-align: top;\n",
       "    }\n",
       "\n",
       "    .dataframe thead th {\n",
       "        text-align: right;\n",
       "    }\n",
       "</style>\n",
       "<table border=\"1\" class=\"dataframe\">\n",
       "  <thead>\n",
       "    <tr style=\"text-align: right;\">\n",
       "      <th></th>\n",
       "      <th>ts1</th>\n",
       "      <th>ts2</th>\n",
       "      <th>created_at</th>\n",
       "      <th>text</th>\n",
       "    </tr>\n",
       "  </thead>\n",
       "  <tbody>\n",
       "    <tr>\n",
       "      <th>568585</th>\n",
       "      <td>363406372</td>\n",
       "      <td>sunset1912</td>\n",
       "      <td>NaN</td>\n",
       "      <td>1359510802517139459</td>\n",
       "    </tr>\n",
       "    <tr>\n",
       "      <th>595222</th>\n",
       "      <td>819646999939207168</td>\n",
       "      <td>ClickySound</td>\n",
       "      <td>NaN</td>\n",
       "      <td>NaN</td>\n",
       "    </tr>\n",
       "    <tr>\n",
       "      <th>641041</th>\n",
       "      <td>718955223750840320</td>\n",
       "      <td>MashedUpMovies</td>\n",
       "      <td>NaN</td>\n",
       "      <td>NaN</td>\n",
       "    </tr>\n",
       "    <tr>\n",
       "      <th>819200</th>\n",
       "      <td>913671438</td>\n",
       "      <td>juniorfonseca</td>\n",
       "      <td>NaN</td>\n",
       "      <td>NaN</td>\n",
       "    </tr>\n",
       "  </tbody>\n",
       "</table>\n",
       "</div>"
      ],
      "text/plain": [
       "                       ts1             ts2 created_at                 text\n",
       "568585           363406372      sunset1912        NaN  1359510802517139459\n",
       "595222  819646999939207168     ClickySound        NaN                  NaN\n",
       "641041  718955223750840320  MashedUpMovies        NaN                  NaN\n",
       "819200           913671438   juniorfonseca        NaN                  NaN"
      ]
     },
     "execution_count": 32,
     "metadata": {},
     "output_type": "execute_result"
    }
   ],
   "source": [
    "df['datetime'] = pd.to_datetime(df['ts1'], errors=\"coerce\")\n",
    "df[df['datetime'].isna()][['ts1',' ts2', 'created_at','text']]"
   ]
  },
  {
   "cell_type": "markdown",
   "id": "aba4b06e-3a59-4b8d-a302-9073ce9caa15",
   "metadata": {},
   "source": [
    "# Data Quality Observations"
   ]
  },
  {
   "cell_type": "markdown",
   "id": "625c1e7c-9015-4532-937b-59f66c4f1c36",
   "metadata": {},
   "source": [
    "## 4 `ts1` values do not fit the general schema"
   ]
  },
  {
   "cell_type": "code",
   "execution_count": 25,
   "id": "8318a51b-a2bf-4123-89cc-855bd6d35da2",
   "metadata": {},
   "outputs": [
    {
     "data": {
      "text/html": [
       "<div>\n",
       "<style scoped>\n",
       "    .dataframe tbody tr th:only-of-type {\n",
       "        vertical-align: middle;\n",
       "    }\n",
       "\n",
       "    .dataframe tbody tr th {\n",
       "        vertical-align: top;\n",
       "    }\n",
       "\n",
       "    .dataframe thead th {\n",
       "        text-align: right;\n",
       "    }\n",
       "</style>\n",
       "<table border=\"1\" class=\"dataframe\">\n",
       "  <thead>\n",
       "    <tr style=\"text-align: right;\">\n",
       "      <th></th>\n",
       "      <th>ts1</th>\n",
       "      <th>ts2</th>\n",
       "      <th>text</th>\n",
       "    </tr>\n",
       "  </thead>\n",
       "  <tbody>\n",
       "    <tr>\n",
       "      <th>568585</th>\n",
       "      <td>363406372</td>\n",
       "      <td>sunset1912</td>\n",
       "      <td>1359510802517139459</td>\n",
       "    </tr>\n",
       "    <tr>\n",
       "      <th>595222</th>\n",
       "      <td>819646999939207168</td>\n",
       "      <td>ClickySound</td>\n",
       "      <td>NaN</td>\n",
       "    </tr>\n",
       "    <tr>\n",
       "      <th>641041</th>\n",
       "      <td>718955223750840320</td>\n",
       "      <td>MashedUpMovies</td>\n",
       "      <td>NaN</td>\n",
       "    </tr>\n",
       "    <tr>\n",
       "      <th>819200</th>\n",
       "      <td>913671438</td>\n",
       "      <td>juniorfonseca</td>\n",
       "      <td>NaN</td>\n",
       "    </tr>\n",
       "  </tbody>\n",
       "</table>\n",
       "</div>"
      ],
      "text/plain": [
       "                       ts1             ts2                 text\n",
       "568585           363406372      sunset1912  1359510802517139459\n",
       "595222  819646999939207168     ClickySound                  NaN\n",
       "641041  718955223750840320  MashedUpMovies                  NaN\n",
       "819200           913671438   juniorfonseca                  NaN"
      ]
     },
     "execution_count": 25,
     "metadata": {},
     "output_type": "execute_result"
    }
   ],
   "source": [
    "df['datetime'] = pd.to_datetime(df['ts1'], errors=\"coerce\")\n",
    "df[df['datetime'].isna()][['ts1',' ts2', 'text']]"
   ]
  },
  {
   "cell_type": "markdown",
   "id": "f99bd9e8-4516-44bb-a423-7cd0cd3d70f3",
   "metadata": {},
   "source": [
    "### Action Taken\n",
    "* Each record is ingested into mongodb to faithfully represent the source data.\n",
    "* The API code will be responsible for filtering out invalid data from its queries.\n",
    "    * *This is handled in `db.get_tweets()`*"
   ]
  },
  {
   "cell_type": "markdown",
   "id": "241013d3-d384-495b-8f94-3a85e2465f9e",
   "metadata": {},
   "source": [
    "## `ts1` and `ts2` values matched 87.3% of the time"
   ]
  },
  {
   "cell_type": "code",
   "execution_count": 29,
   "id": "e9adb95b-cbd5-44fd-9b45-b613c6ab64a7",
   "metadata": {},
   "outputs": [
    {
     "name": "stdout",
     "output_type": "stream",
     "text": [
      "`ts1` and `ts2` values matched 0.8739065659252953% (739089/845730) of the time.\n"
     ]
    }
   ],
   "source": [
    "matched_ts = (df['ts1'] == df[' ts2']).sum()\n",
    "print(f\"`ts1` and `ts2` values matched {matched_ts / len(df)}% ({matched_ts}/{len(df)}) of the time.\")"
   ]
  },
  {
   "cell_type": "markdown",
   "id": "a9c6fbe7-c8c6-4059-8e35-2c9667de44a6",
   "metadata": {},
   "source": [
    "## Action Taken\n",
    "* When filtering for a range of time, I only consider the `ts1` column."
   ]
  },
  {
   "cell_type": "markdown",
   "id": "188d1f35-11fc-4075-85be-04edc0aea9ea",
   "metadata": {},
   "source": [
    "## 99.52% of `place_id` values are null"
   ]
  },
  {
   "cell_type": "code",
   "execution_count": 31,
   "id": "a522c819-c836-4be3-9f5e-2b5706721f93",
   "metadata": {},
   "outputs": [
    {
     "name": "stdout",
     "output_type": "stream",
     "text": [
      "99.52% (841697/845730) of all tweets have null Place ID\n"
     ]
    }
   ],
   "source": [
    "place_id_inv = df['place_id'].isna().sum()\n",
    "print(f\"{round(place_id_inv / len(df), 4)*100}% ({df['place_id'].isna().sum()}/{len(df)}) of all tweets have null Place ID\")"
   ]
  },
  {
   "cell_type": "markdown",
   "id": "17e523f6-6be7-4b9c-bf25-daa0475a52db",
   "metadata": {},
   "source": [
    "### Action Taken\n",
    "* This data quality issue seems out of place, so I would first want to further investigate the root cause by learning more about how the dataset was assembled.\n",
    "* For now, the code is primarily designed such that it will return an empty list when the `place_id` is null and checked that it does work in rare cases when it is not."
   ]
  },
  {
   "cell_type": "markdown",
   "id": "5bc6d2c1-b8dc-4044-9417-db07e0c2f652",
   "metadata": {},
   "source": [
    "## Connect to MongoDB"
   ]
  },
  {
   "cell_type": "code",
   "execution_count": 11,
   "id": "1a9cb4e9-999d-4855-96d9-11e92c0d619c",
   "metadata": {},
   "outputs": [],
   "source": [
    "import pymongo\n",
    "from pymongo import MongoClient\n",
    "import urllib.parse\n",
    "import os"
   ]
  },
  {
   "cell_type": "code",
   "execution_count": 12,
   "id": "2f8a84c0-83b1-4e8b-86ae-20da2423b069",
   "metadata": {},
   "outputs": [],
   "source": [
    "client = MongoClient('mongodb',\n",
    "                     username=os.environ['MONGO_INITDB_ROOT_USERNAME'],\n",
    "                     password=os.environ['MONGO_INITDB_ROOT_PASSWORD'],\n",
    "                     authMechanism='SCRAM-SHA-256')\n",
    "\n",
    "try:\n",
    "   # The ismaster command is cheap and does not require auth.\n",
    "   client.admin.command('ismaster')\n",
    "except ConnectionFailure:\n",
    "   print(\"Server not available\")"
   ]
  },
  {
   "cell_type": "code",
   "execution_count": 5,
   "id": "0a20e1c2-d458-430f-b3ae-07703ed9d07e",
   "metadata": {},
   "outputs": [
    {
     "data": {
      "text/plain": [
       "{'version': '7.0.12',\n",
       " 'gitVersion': 'b6513ce0781db6818e24619e8a461eae90bc94fc',\n",
       " 'modules': [],\n",
       " 'allocator': 'tcmalloc',\n",
       " 'javascriptEngine': 'mozjs',\n",
       " 'sysInfo': 'deprecated',\n",
       " 'versionArray': [7, 0, 12, 0],\n",
       " 'openssl': {'running': 'OpenSSL 3.0.2 15 Mar 2022',\n",
       "  'compiled': 'OpenSSL 3.0.2 15 Mar 2022'},\n",
       " 'buildEnvironment': {'distmod': 'ubuntu2204',\n",
       "  'distarch': 'aarch64',\n",
       "  'cc': '/opt/mongodbtoolchain/v4/bin/gcc: gcc (GCC) 11.3.0',\n",
       "  'ccflags': '-Werror -include mongo/platform/basic.h -ffp-contract=off -fasynchronous-unwind-tables -g2 -Wall -Wsign-compare -Wno-unknown-pragmas -Winvalid-pch -gdwarf-5 -fno-omit-frame-pointer -fno-strict-aliasing -O2 -march=armv8.2-a -mtune=generic -Wno-unused-local-typedefs -Wno-unused-function -Wno-deprecated-declarations -Wno-unused-const-variable -Wno-unused-but-set-variable -Wno-missing-braces -fstack-protector-strong -gdwarf64 -Wa,--nocompress-debug-sections -Wimplicit-fallthrough=5',\n",
       "  'cxx': '/opt/mongodbtoolchain/v4/bin/g++: g++ (GCC) 11.3.0',\n",
       "  'cxxflags': '-Woverloaded-virtual -Wpessimizing-move -Wno-maybe-uninitialized -fsized-deallocation -Wno-deprecated -std=c++20',\n",
       "  'linkflags': '-Wl,--fatal-warnings -B/opt/mongodbtoolchain/v4/bin -gdwarf-5 -pthread -Wl,-z,now -fuse-ld=lld -fstack-protector-strong -gdwarf64 -Wl,--build-id -Wl,--hash-style=gnu -Wl,-z,noexecstack -Wl,--warn-execstack -Wl,-z,relro -Wl,--compress-debug-sections=none -Wl,-z,origin -Wl,--enable-new-dtags',\n",
       "  'target_arch': 'aarch64',\n",
       "  'target_os': 'linux',\n",
       "  'cppdefines': 'SAFEINT_USE_INTRINSICS 0 PCRE2_STATIC NDEBUG _XOPEN_SOURCE 700 _GNU_SOURCE _FORTIFY_SOURCE 2 ABSL_FORCE_ALIGNED_ACCESS BOOST_ENABLE_ASSERT_DEBUG_HANDLER BOOST_FILESYSTEM_NO_CXX20_ATOMIC_REF BOOST_LOG_NO_SHORTHAND_NAMES BOOST_LOG_USE_NATIVE_SYSLOG BOOST_LOG_WITHOUT_THREAD_ATTR BOOST_MATH_NO_LONG_DOUBLE_MATH_FUNCTIONS BOOST_SYSTEM_NO_DEPRECATED BOOST_THREAD_USES_DATETIME BOOST_THREAD_VERSION 5'},\n",
       " 'bits': 64,\n",
       " 'debug': False,\n",
       " 'maxBsonObjectSize': 16777216,\n",
       " 'storageEngines': ['devnull', 'wiredTiger'],\n",
       " 'ok': 1.0}"
      ]
     },
     "execution_count": 5,
     "metadata": {},
     "output_type": "execute_result"
    }
   ],
   "source": [
    "client.server_info()"
   ]
  },
  {
   "cell_type": "markdown",
   "id": "cbafd722-63d0-4ed3-8f98-5c699f869850",
   "metadata": {},
   "source": [
    "## Create Database & Collection"
   ]
  },
  {
   "cell_type": "code",
   "execution_count": 13,
   "id": "c9ff8bc1-f3bb-4cc7-bb00-ea8b7f5d5856",
   "metadata": {},
   "outputs": [],
   "source": [
    "db = client['nio']\n",
    "tweets_col = db['tweets']"
   ]
  },
  {
   "cell_type": "markdown",
   "id": "4ada9750-b391-4da6-9391-dd25756efa4b",
   "metadata": {},
   "source": [
    "## Load Data into the database"
   ]
  },
  {
   "cell_type": "code",
   "execution_count": 13,
   "id": "ba006015-c712-4a3d-981e-0a3c28429424",
   "metadata": {},
   "outputs": [
    {
     "data": {
      "application/vnd.jupyter.widget-view+json": {
       "model_id": "0d6235cb19f64dcdab3ac6d9c3366306",
       "version_major": 2,
       "version_minor": 0
      },
      "text/plain": [
       "  0%|          | 0/843854 [00:00<?, ?it/s]"
      ]
     },
     "metadata": {},
     "output_type": "display_data"
    },
    {
     "name": "stdout",
     "output_type": "stream",
     "text": [
      "[ObjectId('6681b23d34f58518da1d647d'), ObjectId('6681b23d34f58518da1d647e'), ObjectId('6681b23d34f58518da1d647f'), ObjectId('6681b23d34f58518da1d6480'), ObjectId('6681b23d34f58518da1d6481'), ObjectId('6681b23d34f58518da1d6482'), ObjectId('6681b23d34f58518da1d6483'), ObjectId('6681b23d34f58518da1d6484'), ObjectId('6681b23d34f58518da1d6485'), ObjectId('6681b23d34f58518da1d6486')]\n"
     ]
    }
   ],
   "source": [
    "num_lines = sum(1 for _ in open(large_tsv, 'r'))\n",
    "\n",
    "with open(large_tsv, 'r') as fIn:\n",
    "    docs=[]\n",
    "    \n",
    "    for line_ind, line in tqdm(enumerate(fIn.readlines()), total=num_lines):\n",
    "        if line_ind==0:\n",
    "            col_headers=line.split(\"\\t\")\n",
    "        else:\n",
    "            doc = {}\n",
    "            \n",
    "            for col_ind, col_val in enumerate(line.split(\"\\t\")):\n",
    "               doc[col_headers[col_ind]] = col_val\n",
    "            \n",
    "            docs.append(doc)\n",
    "\n",
    "print(\"Bulk Inserting Documents.\")\n",
    "result = tweets_col.insert_many(docs)\n",
    "print(result.inserted_ids[:10])"
   ]
  },
  {
   "cell_type": "markdown",
   "id": "40721a2e-e1d5-4be2-96f3-6ff4f7b6dad4",
   "metadata": {},
   "source": [
    "## Create Text Index on `text` field"
   ]
  },
  {
   "cell_type": "code",
   "execution_count": 18,
   "id": "32fa4ab9-e2f2-47cf-9404-63dfb0224977",
   "metadata": {},
   "outputs": [
    {
     "data": {
      "text/plain": [
       "'text_text'"
      ]
     },
     "execution_count": 18,
     "metadata": {},
     "output_type": "execute_result"
    }
   ],
   "source": [
    "tweets_col.create_index({\"text\":\"text\"})"
   ]
  }
 ],
 "metadata": {
  "kernelspec": {
   "display_name": "Python 3 (ipykernel)",
   "language": "python",
   "name": "python3"
  },
  "language_info": {
   "codemirror_mode": {
    "name": "ipython",
    "version": 3
   },
   "file_extension": ".py",
   "mimetype": "text/x-python",
   "name": "python",
   "nbconvert_exporter": "python",
   "pygments_lexer": "ipython3",
   "version": "3.11.6"
  }
 },
 "nbformat": 4,
 "nbformat_minor": 5
}
