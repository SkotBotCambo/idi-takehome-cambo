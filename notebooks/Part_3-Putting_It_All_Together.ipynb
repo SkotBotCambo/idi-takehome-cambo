{
 "cells": [
  {
   "cell_type": "markdown",
   "id": "d77ef486-b286-4554-a98d-c12102ab17b0",
   "metadata": {},
   "source": [
    "# Part 3\n",
    "*Explain to us how we can use your system. We should be able to run this system and query it on our own computers using your instructions. Please explain and justify any important design choices you make.*"
   ]
  },
  {
   "cell_type": "markdown",
   "id": "fa83192c-8fec-4b59-bf79-4db7adf4cc86",
   "metadata": {},
   "source": [
    "# Overview\n",
    "\n",
    "The code for this project is generally split into 3 parts, each with its own docker container.\n",
    "* *MongoDB* This is the NoSQL database which will contain the source data\n",
    "* *API server* This is the server that interfaces the user with the database\n",
    "* *Jupyter Lab* This is a jupyter lab server that makes it easier to explore the data and develop data transformation functions quickly.\n",
    "\n",
    "The *MongoDB* container is derived from the [official community MongoDB Docker image](https://hub.docker.com/r/mongodb/mongodb-community-server). The API server is derived from code I commonly use for putting together Flask APIs and other web services and the version I used for this project can be found in the `api_server` folder. The jupyter lab service is derived from the [`Jupyter Docker Stacks` `scipy-notebook` image](https://jupyter-docker-stacks.readthedocs.io/en/latest/). All of the files pertaining to building and running each container are contained within the `api-server` and `notebooks` folders."
   ]
  },
  {
   "cell_type": "markdown",
   "id": "a80b682a-2c3a-4e45-97c1-260bc53389bc",
   "metadata": {},
   "source": [
    "# Building the Docker Image and Starting the containers\n",
    "From the root directory containing `compose.yml` and with the docker engine running, run\n",
    "\n",
    "`docker compose up --build`\n",
    "\n",
    "Once this is done, you can access the following services at the following addresses\n",
    "* `localhost:5001/query` - The API server can be reached at `5001` of your `localhost` allowing you to use postman or the shell to query the API\n",
    "* `localhost:8888` - This is the jupyter server, you can log in without a password for this version of the code\n",
    "* `localhost:8081` - Here you can access the MongoDB administrator panel"
   ]
  },
  {
   "cell_type": "markdown",
   "id": "b289de0c-0765-4d3b-b23e-4cc356fc1375",
   "metadata": {},
   "source": [
    "# Querying the Database to answer each question for the term `love`"
   ]
  },
  {
   "cell_type": "code",
   "execution_count": 13,
   "id": "d5ceb22e-40df-4cbf-9789-e92f7d744e7d",
   "metadata": {},
   "outputs": [],
   "source": [
    "import pandas as pd\n",
    "import requests\n",
    "import json"
   ]
  },
  {
   "cell_type": "code",
   "execution_count": 14,
   "id": "1097de68-e9ed-481e-a066-6f5b86125baf",
   "metadata": {},
   "outputs": [
    {
     "name": "stdout",
     "output_type": "stream",
     "text": [
      "{'avg_likes_per_tweet': 163, 'counts_by_day': [{'count': 188, 'date': '2022-01-04'}, {'count': 1699, 'date': '2022-01-05'}, {'count': 30, 'date': '2022-01-22'}, {'count': 23684, 'date': '2022-03-01'}], 'place_ids': [], 'term': 'love', 'time_to_complete_query': 1.3691749572753906, 'times_of_day': {'afternoon': 17, 'evening': 201, 'morning': 25383, 'overnight': 0}, 'users': 19579}\n"
     ]
    }
   ],
   "source": [
    "import requests\n",
    "import json\n",
    "\n",
    "# If running this notebook inside the Jupyter Lab container\n",
    "url = \"http://api:50505/query\"\n",
    "\n",
    "# comment this in instead if you are running out itside of that container, but on your local system\n",
    "# url = \"http://localhost:5001\"\n",
    "\n",
    "payload = json.dumps({\n",
    "  \"term\": \"love\"\n",
    "})\n",
    "headers = {\n",
    "  'Content-Type': 'application/json'\n",
    "}\n",
    "\n",
    "response = requests.request(\"POST\", url, headers=headers, data=payload)\n",
    "\n",
    "data = response.json()\n",
    "print(data)"
   ]
  },
  {
   "cell_type": "markdown",
   "id": "3034e94d-e5bc-4091-90ad-679dd4dc31b3",
   "metadata": {},
   "source": [
    "# Answering the Questions\n",
    "* How many tweets were posted containing the term on each day?\n",
    "* How many unique users posted a tweet containing the term?\n",
    "* How many likes did tweets containing the term get, on average?\n",
    "* Where (in terms of place IDs) did the tweets come from?\n",
    "* What times of day were the tweets posted at?\n",
    "* Which user posted the most tweets containing the term?"
   ]
  },
  {
   "cell_type": "markdown",
   "id": "f9b8e765-50f0-4d36-bb78-ecb0d884fefb",
   "metadata": {},
   "source": [
    "## How many tweets were posted containing the term on each day?"
   ]
  },
  {
   "cell_type": "code",
   "execution_count": 16,
   "id": "419d4a0e-d1ce-4527-bc30-7736a14fca40",
   "metadata": {},
   "outputs": [
    {
     "name": "stdout",
     "output_type": "stream",
     "text": [
      "188 tweets contained the term on 2022-01-04\n",
      "1699 tweets contained the term on 2022-01-05\n",
      "30 tweets contained the term on 2022-01-22\n",
      "23684 tweets contained the term on 2022-03-01\n"
     ]
    }
   ],
   "source": [
    "for record in data['counts_by_day']:\n",
    "    print(f\"{record['count']} tweets contained the term on {record['date']}\")"
   ]
  },
  {
   "cell_type": "markdown",
   "id": "1d8852ed-9ef8-4d03-801f-b6ce9731f0ac",
   "metadata": {},
   "source": [
    "## How many unique users posted a tweet containing the term?"
   ]
  },
  {
   "cell_type": "code",
   "execution_count": 17,
   "id": "7df23cb2-dd7a-4e9f-87dc-e2ef3c8b36da",
   "metadata": {},
   "outputs": [
    {
     "name": "stdout",
     "output_type": "stream",
     "text": [
      "19579 posted a tweet containing this term\n"
     ]
    }
   ],
   "source": [
    "print(f\"{data['users']} posted a tweet containing this term\")"
   ]
  },
  {
   "cell_type": "markdown",
   "id": "4f022b65-8e81-40f0-85f6-83f4e88019ad",
   "metadata": {},
   "source": [
    "## How many likes did tweets containing the term get, on average?"
   ]
  },
  {
   "cell_type": "code",
   "execution_count": 18,
   "id": "d924af09-0e27-40df-a8ed-247a4c6164ff",
   "metadata": {},
   "outputs": [
    {
     "name": "stdout",
     "output_type": "stream",
     "text": [
      "163 likes per average tweet containing this term\n"
     ]
    }
   ],
   "source": [
    "print(f\"{data['avg_likes_per_tweet']} likes per average tweet containing this term\")"
   ]
  },
  {
   "cell_type": "markdown",
   "id": "fc7cce41-2e56-4e0f-a241-73cc644eb828",
   "metadata": {},
   "source": [
    "## Where (in terms of place IDs) did the tweets come from?\n",
    "Note: Most `place_ids` were null"
   ]
  },
  {
   "cell_type": "code",
   "execution_count": 22,
   "id": "43f22195-17a8-458e-8f58-75576d7be86f",
   "metadata": {},
   "outputs": [
    {
     "name": "stdout",
     "output_type": "stream",
     "text": [
      "There were no place ids associated with tweets containing this term\n"
     ]
    }
   ],
   "source": [
    "if len(data['place_ids']) == 0:\n",
    "    print(\"There were no place ids associated with tweets containing this term\")\n",
    "else:\n",
    "    print(f\"There were {len(data['place_ids'])} associated with this term\")"
   ]
  },
  {
   "cell_type": "markdown",
   "id": "32279187-72f3-4727-878b-41cff8a76490",
   "metadata": {},
   "source": [
    "## What times of day were the tweets posted at?"
   ]
  },
  {
   "cell_type": "code",
   "execution_count": 26,
   "id": "f004274d-d1c6-40eb-ab85-9c124397ae2b",
   "metadata": {},
   "outputs": [
    {
     "name": "stdout",
     "output_type": "stream",
     "text": [
      "afternoon: 17\n",
      "evening: 201\n",
      "morning: 25383\n",
      "overnight: 0\n"
     ]
    }
   ],
   "source": [
    "for tod, count in data['times_of_day'].items():\n",
    "    print(f\"{tod}: {count}\")"
   ]
  },
  {
   "cell_type": "markdown",
   "id": "58ff9ae8-572a-4624-9337-412c03dd456d",
   "metadata": {},
   "source": [
    "## Which user posted the most tweets containing the term?"
   ]
  },
  {
   "cell_type": "code",
   "execution_count": 27,
   "id": "d00ed7de-1b16-4fc7-82b0-12700e10fdcd",
   "metadata": {},
   "outputs": [
    {
     "data": {
      "text/plain": [
       "dict_keys(['avg_likes_per_tweet', 'counts_by_day', 'place_ids', 'term', 'time_to_complete_query', 'times_of_day', 'users'])"
      ]
     },
     "execution_count": 27,
     "metadata": {},
     "output_type": "execute_result"
    }
   ],
   "source": [
    "data.keys()"
   ]
  }
 ],
 "metadata": {
  "kernelspec": {
   "display_name": "Python 3 (ipykernel)",
   "language": "python",
   "name": "python3"
  },
  "language_info": {
   "codemirror_mode": {
    "name": "ipython",
    "version": 3
   },
   "file_extension": ".py",
   "mimetype": "text/x-python",
   "name": "python",
   "nbconvert_exporter": "python",
   "pygments_lexer": "ipython3",
   "version": "3.11.6"
  }
 },
 "nbformat": 4,
 "nbformat_minor": 5
}
