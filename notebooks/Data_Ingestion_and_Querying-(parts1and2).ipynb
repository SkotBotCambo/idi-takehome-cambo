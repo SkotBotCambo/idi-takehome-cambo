{
 "cells": [
  {
   "cell_type": "markdown",
   "id": "3adb3c6e-5994-40a0-9815-b24cf6af3f82",
   "metadata": {},
   "source": [
    "# Part 1: Data Ingestion\n",
    "Ingest the data: figure out a way to put the data in a structure so that you can query it as described in Part 2.\n"
   ]
  },
  {
   "cell_type": "markdown",
   "id": "de4566b2-3be1-4f0a-9d54-a6fff158d460",
   "metadata": {},
   "source": [
    "## Loading and Understanding the Data"
   ]
  },
  {
   "cell_type": "code",
   "execution_count": 9,
   "id": "9c537273-0ae8-4ac7-b501-b4528afa88d8",
   "metadata": {},
   "outputs": [],
   "source": [
    "from pathlib import Path\n",
    "import pandas as pd\n",
    "from tqdm.auto import tqdm\n",
    "import time"
   ]
  },
  {
   "cell_type": "code",
   "execution_count": 10,
   "id": "a7588a77-da2a-49f5-b053-ff73a0075459",
   "metadata": {},
   "outputs": [],
   "source": [
    "small_tsv = '../data/Copy of correct_twitter_201904.tsv'\n",
    "large_tsv = '../data/Copy of correct_twitter_202102.tsv'"
   ]
  },
  {
   "cell_type": "code",
   "execution_count": 38,
   "id": "8526a303-de65-49b6-a30d-14f270d8f434",
   "metadata": {
    "scrolled": true
   },
   "outputs": [
    {
     "name": "stderr",
     "output_type": "stream",
     "text": [
      "/tmp/ipykernel_364/3550851614.py:1: DtypeWarning: Columns (0,4,5,7,8,9,10,11,12,13,20,29) have mixed types. Specify dtype option on import or set low_memory=False.\n",
      "  df = pd.read_csv(large_tsv, sep=\"\\t\")\n"
     ]
    },
    {
     "data": {
      "text/html": [
       "<div>\n",
       "<style scoped>\n",
       "    .dataframe tbody tr th:only-of-type {\n",
       "        vertical-align: middle;\n",
       "    }\n",
       "\n",
       "    .dataframe tbody tr th {\n",
       "        vertical-align: top;\n",
       "    }\n",
       "\n",
       "    .dataframe thead th {\n",
       "        text-align: right;\n",
       "    }\n",
       "</style>\n",
       "<table border=\"1\" class=\"dataframe\">\n",
       "  <thead>\n",
       "    <tr style=\"text-align: right;\">\n",
       "      <th></th>\n",
       "      <th>id</th>\n",
       "      <th>event</th>\n",
       "      <th>ts1</th>\n",
       "      <th>ts2</th>\n",
       "      <th>from_stream</th>\n",
       "      <th>directly_from_stream</th>\n",
       "      <th>from_search</th>\n",
       "      <th>directly_from_search</th>\n",
       "      <th>from_quote_search</th>\n",
       "      <th>directly_from_quote_search</th>\n",
       "      <th>...</th>\n",
       "      <th>retweeted</th>\n",
       "      <th>retweeted_author_id</th>\n",
       "      <th>retweeted_handle</th>\n",
       "      <th>retweeted_follower_count</th>\n",
       "      <th>mentioned_author_ids</th>\n",
       "      <th>mentioned_handles</th>\n",
       "      <th>hashtags</th>\n",
       "      <th>urls</th>\n",
       "      <th>media_keys</th>\n",
       "      <th>place_id</th>\n",
       "    </tr>\n",
       "  </thead>\n",
       "  <tbody>\n",
       "    <tr>\n",
       "      <th>0</th>\n",
       "      <td>1358322479136178177</td>\n",
       "      <td>britney_202102</td>\n",
       "      <td>2022-03-01 09:06:52.403595-05:00</td>\n",
       "      <td>2022-03-01 09:06:52.403595-05:00</td>\n",
       "      <td>True</td>\n",
       "      <td>True</td>\n",
       "      <td>False</td>\n",
       "      <td>False</td>\n",
       "      <td>False</td>\n",
       "      <td>False</td>\n",
       "      <td>...</td>\n",
       "      <td>1.358249e+18</td>\n",
       "      <td>9.325937e+07</td>\n",
       "      <td>briebxrries</td>\n",
       "      <td>1002.0</td>\n",
       "      <td>NaN</td>\n",
       "      <td>NaN</td>\n",
       "      <td>NaN</td>\n",
       "      <td>NaN</td>\n",
       "      <td>NaN</td>\n",
       "      <td>NaN</td>\n",
       "    </tr>\n",
       "    <tr>\n",
       "      <th>1</th>\n",
       "      <td>1358323016736796677</td>\n",
       "      <td>britney_202102</td>\n",
       "      <td>2022-01-05 08:34:04.477789-05:00</td>\n",
       "      <td>2022-03-01 09:06:52.398778-05:00</td>\n",
       "      <td>True</td>\n",
       "      <td>True</td>\n",
       "      <td>False</td>\n",
       "      <td>False</td>\n",
       "      <td>False</td>\n",
       "      <td>False</td>\n",
       "      <td>...</td>\n",
       "      <td>1.358189e+18</td>\n",
       "      <td>1.752517e+07</td>\n",
       "      <td>Variety</td>\n",
       "      <td>2669599.0</td>\n",
       "      <td>NaN</td>\n",
       "      <td>NaN</td>\n",
       "      <td>['FreeBritney']</td>\n",
       "      <td>NaN</td>\n",
       "      <td>NaN</td>\n",
       "      <td>NaN</td>\n",
       "    </tr>\n",
       "    <tr>\n",
       "      <th>2</th>\n",
       "      <td>1358322996696465409</td>\n",
       "      <td>britney_202102</td>\n",
       "      <td>2022-03-01 09:06:52.399008-05:00</td>\n",
       "      <td>2022-03-01 09:06:52.399008-05:00</td>\n",
       "      <td>True</td>\n",
       "      <td>True</td>\n",
       "      <td>False</td>\n",
       "      <td>False</td>\n",
       "      <td>False</td>\n",
       "      <td>False</td>\n",
       "      <td>...</td>\n",
       "      <td>1.358201e+18</td>\n",
       "      <td>4.035766e+08</td>\n",
       "      <td>Johnnerkell</td>\n",
       "      <td>2650.0</td>\n",
       "      <td>NaN</td>\n",
       "      <td>NaN</td>\n",
       "      <td>NaN</td>\n",
       "      <td>NaN</td>\n",
       "      <td>NaN</td>\n",
       "      <td>NaN</td>\n",
       "    </tr>\n",
       "    <tr>\n",
       "      <th>3</th>\n",
       "      <td>1358322976769286151</td>\n",
       "      <td>britney_202102</td>\n",
       "      <td>2022-03-01 09:06:52.399205-05:00</td>\n",
       "      <td>2022-03-01 09:06:52.399205-05:00</td>\n",
       "      <td>True</td>\n",
       "      <td>True</td>\n",
       "      <td>False</td>\n",
       "      <td>False</td>\n",
       "      <td>False</td>\n",
       "      <td>False</td>\n",
       "      <td>...</td>\n",
       "      <td>1.358238e+18</td>\n",
       "      <td>4.429004e+09</td>\n",
       "      <td>PopCrave</td>\n",
       "      <td>880695.0</td>\n",
       "      <td>NaN</td>\n",
       "      <td>NaN</td>\n",
       "      <td>['FramingBritney']</td>\n",
       "      <td>NaN</td>\n",
       "      <td>NaN</td>\n",
       "      <td>NaN</td>\n",
       "    </tr>\n",
       "    <tr>\n",
       "      <th>4</th>\n",
       "      <td>1368923802260889606</td>\n",
       "      <td>britney_202102</td>\n",
       "      <td>2022-03-01 07:26:05.505986-05:00</td>\n",
       "      <td>2022-03-01 07:26:05.505986-05:00</td>\n",
       "      <td>True</td>\n",
       "      <td>True</td>\n",
       "      <td>False</td>\n",
       "      <td>False</td>\n",
       "      <td>False</td>\n",
       "      <td>False</td>\n",
       "      <td>...</td>\n",
       "      <td>NaN</td>\n",
       "      <td>NaN</td>\n",
       "      <td>NaN</td>\n",
       "      <td>NaN</td>\n",
       "      <td>NaN</td>\n",
       "      <td>NaN</td>\n",
       "      <td>NaN</td>\n",
       "      <td>NaN</td>\n",
       "      <td>NaN</td>\n",
       "      <td>NaN</td>\n",
       "    </tr>\n",
       "  </tbody>\n",
       "</table>\n",
       "<p>5 rows × 46 columns</p>\n",
       "</div>"
      ],
      "text/plain": [
       "                    id           event                               ts1  \\\n",
       "0  1358322479136178177  britney_202102  2022-03-01 09:06:52.403595-05:00   \n",
       "1  1358323016736796677  britney_202102  2022-01-05 08:34:04.477789-05:00   \n",
       "2  1358322996696465409  britney_202102  2022-03-01 09:06:52.399008-05:00   \n",
       "3  1358322976769286151  britney_202102  2022-03-01 09:06:52.399205-05:00   \n",
       "4  1368923802260889606  britney_202102  2022-03-01 07:26:05.505986-05:00   \n",
       "\n",
       "                                ts2 from_stream directly_from_stream  \\\n",
       "0  2022-03-01 09:06:52.403595-05:00        True                 True   \n",
       "1  2022-03-01 09:06:52.398778-05:00        True                 True   \n",
       "2  2022-03-01 09:06:52.399008-05:00        True                 True   \n",
       "3  2022-03-01 09:06:52.399205-05:00        True                 True   \n",
       "4  2022-03-01 07:26:05.505986-05:00        True                 True   \n",
       "\n",
       "   from_search directly_from_search from_quote_search  \\\n",
       "0        False                False             False   \n",
       "1        False                False             False   \n",
       "2        False                False             False   \n",
       "3        False                False             False   \n",
       "4        False                False             False   \n",
       "\n",
       "  directly_from_quote_search  ...     retweeted retweeted_author_id  \\\n",
       "0                      False  ...  1.358249e+18        9.325937e+07   \n",
       "1                      False  ...  1.358189e+18        1.752517e+07   \n",
       "2                      False  ...  1.358201e+18        4.035766e+08   \n",
       "3                      False  ...  1.358238e+18        4.429004e+09   \n",
       "4                      False  ...           NaN                 NaN   \n",
       "\n",
       "  retweeted_handle retweeted_follower_count mentioned_author_ids  \\\n",
       "0      briebxrries                   1002.0                  NaN   \n",
       "1          Variety                2669599.0                  NaN   \n",
       "2      Johnnerkell                   2650.0                  NaN   \n",
       "3         PopCrave                 880695.0                  NaN   \n",
       "4              NaN                      NaN                  NaN   \n",
       "\n",
       "  mentioned_handles            hashtags urls media_keys  place_id  \n",
       "0               NaN                 NaN  NaN        NaN       NaN  \n",
       "1               NaN     ['FreeBritney']  NaN        NaN       NaN  \n",
       "2               NaN                 NaN  NaN        NaN       NaN  \n",
       "3               NaN  ['FramingBritney']  NaN        NaN       NaN  \n",
       "4               NaN                 NaN  NaN        NaN       NaN  \n",
       "\n",
       "[5 rows x 46 columns]"
      ]
     },
     "execution_count": 38,
     "metadata": {},
     "output_type": "execute_result"
    }
   ],
   "source": [
    "df = pd.read_csv(large_tsv, sep=\"\\t\")\n",
    "df.head()"
   ]
  },
  {
   "cell_type": "code",
   "execution_count": 51,
   "id": "b55bdd50-72be-4e2c-b451-f8c893fd5bd1",
   "metadata": {},
   "outputs": [],
   "source": [
    "df['datetime'] = pd.to_datetime(df['ts1'], errors=\"coerce\")"
   ]
  },
  {
   "cell_type": "code",
   "execution_count": 55,
   "id": "b1721fd2-6cb5-44c3-9841-836556ada83d",
   "metadata": {},
   "outputs": [
    {
     "data": {
      "text/plain": [
       "{'2022-01-04', '2022-01-05', '2022-01-22', '2022-03-01'}"
      ]
     },
     "execution_count": 55,
     "metadata": {},
     "output_type": "execute_result"
    }
   ],
   "source": [
    "set(dates)"
   ]
  },
  {
   "cell_type": "code",
   "execution_count": 41,
   "id": "7143f134-e85e-447b-87fa-530430d3e0e7",
   "metadata": {},
   "outputs": [
    {
     "data": {
      "text/plain": [
       "1358322479136178177"
      ]
     },
     "execution_count": 41,
     "metadata": {},
     "output_type": "execute_result"
    }
   ],
   "source": [
    "df.iloc[0].id"
   ]
  },
  {
   "cell_type": "code",
   "execution_count": 42,
   "id": "b23dae65-5997-4a41-848d-6abb54d5821e",
   "metadata": {},
   "outputs": [
    {
     "data": {
      "text/plain": [
       "'2022-03-01 09:06:52.403595-05:00'"
      ]
     },
     "execution_count": 42,
     "metadata": {},
     "output_type": "execute_result"
    }
   ],
   "source": [
    "df.iloc[0]['ts1']"
   ]
  },
  {
   "cell_type": "code",
   "execution_count": 43,
   "id": "189e9f8d-157b-4cb4-95ae-f89353509c06",
   "metadata": {},
   "outputs": [
    {
     "data": {
      "text/plain": [
       "'RT @briebxrries: what is joe biden and kamala harris’ plans to finally make justin timberlake pay for his crimes against janet jackson and…'"
      ]
     },
     "execution_count": 43,
     "metadata": {},
     "output_type": "execute_result"
    }
   ],
   "source": [
    "df.iloc[0]['text']"
   ]
  },
  {
   "cell_type": "code",
   "execution_count": 102,
   "id": "29b58630-7175-41fa-a84a-1531a184505c",
   "metadata": {},
   "outputs": [
    {
     "name": "stdout",
     "output_type": "stream",
     "text": [
      "87016 out of 88037 tweets have null Place ID\n"
     ]
    }
   ],
   "source": [
    "print(f\"{df['place_id'].isna().sum()} out of {len(df)} tweets have null Place ID\")"
   ]
  },
  {
   "cell_type": "code",
   "execution_count": 63,
   "id": "de14c585-8434-4ee0-afc7-00ee92686980",
   "metadata": {},
   "outputs": [
    {
     "name": "stdout",
     "output_type": "stream",
     "text": [
      "id\n",
      "event\n",
      "ts1\n",
      " ts2\n",
      "from_stream\n",
      "directly_from_stream\n",
      "from_search\n",
      "directly_from_search\n",
      "from_quote_search\n",
      "directly_from_quote_search\n",
      "from_convo_search\n",
      "directly_from_convo_search\n",
      "from_timeline_search\n",
      "directly_from_timeline_search\n",
      "text\n",
      "lang\n",
      "author_id\n",
      "author_handle\n",
      "created_at\n",
      "conversation_id\n",
      "possibly_sensitive\n",
      "reply_settings\n",
      "source\n",
      "author_follower_count\n",
      "retweet_count\n",
      "reply_count\n",
      "like_count\n",
      "quote_count\n",
      "replied_to\n",
      "replied_to_author_id\n",
      "replied_to_handle\n",
      "replied_to_follower_count\n",
      "quoted\n",
      "quoted_author_id\n",
      "quoted_handle\n",
      "quoted_follower_count\n",
      "retweeted\n",
      "retweeted_author_id\n",
      "retweeted_handle\n",
      "retweeted_follower_count\n",
      "mentioned_author_ids\n",
      "mentioned_handles\n",
      "hashtags\n",
      "urls\n",
      "media_keys\n",
      "place_id\n"
     ]
    }
   ],
   "source": [
    "for col in df.columns:\n",
    "    print(col)"
   ]
  },
  {
   "cell_type": "markdown",
   "id": "7db21262-4979-49ad-a9e5-9a3d86555735",
   "metadata": {},
   "source": [
    "## Connect to MongoDB"
   ]
  },
  {
   "cell_type": "code",
   "execution_count": 11,
   "id": "7fe1ed43-eb25-4525-867b-6bd8e6b3c82f",
   "metadata": {},
   "outputs": [],
   "source": [
    "import pymongo\n",
    "from pymongo import MongoClient\n",
    "import urllib.parse\n",
    "import os\n",
    "username=urllib.parse.quote_plus('root')\n",
    "password=urllib.parse.quote_plus('password')"
   ]
  },
  {
   "cell_type": "code",
   "execution_count": 12,
   "id": "580bb347-19ca-4deb-9e5e-43d65c14f064",
   "metadata": {},
   "outputs": [],
   "source": [
    "client = MongoClient('mongodb',\n",
    "                     username=os.environ['MONGO_INITDB_ROOT_USERNAME'],\n",
    "                     password=os.environ['MONGO_INITDB_ROOT_PASSWORD'],\n",
    "                     authMechanism='SCRAM-SHA-256')\n",
    "\n",
    "try:\n",
    "   # The ismaster command is cheap and does not require auth.\n",
    "   client.admin.command('ismaster')\n",
    "except ConnectionFailure:\n",
    "   print(\"Server not available\")"
   ]
  },
  {
   "cell_type": "code",
   "execution_count": 5,
   "id": "75b99c37-a496-4f54-995d-c7ffac34702b",
   "metadata": {},
   "outputs": [
    {
     "data": {
      "text/plain": [
       "{'version': '7.0.12',\n",
       " 'gitVersion': 'b6513ce0781db6818e24619e8a461eae90bc94fc',\n",
       " 'modules': [],\n",
       " 'allocator': 'tcmalloc',\n",
       " 'javascriptEngine': 'mozjs',\n",
       " 'sysInfo': 'deprecated',\n",
       " 'versionArray': [7, 0, 12, 0],\n",
       " 'openssl': {'running': 'OpenSSL 3.0.2 15 Mar 2022',\n",
       "  'compiled': 'OpenSSL 3.0.2 15 Mar 2022'},\n",
       " 'buildEnvironment': {'distmod': 'ubuntu2204',\n",
       "  'distarch': 'aarch64',\n",
       "  'cc': '/opt/mongodbtoolchain/v4/bin/gcc: gcc (GCC) 11.3.0',\n",
       "  'ccflags': '-Werror -include mongo/platform/basic.h -ffp-contract=off -fasynchronous-unwind-tables -g2 -Wall -Wsign-compare -Wno-unknown-pragmas -Winvalid-pch -gdwarf-5 -fno-omit-frame-pointer -fno-strict-aliasing -O2 -march=armv8.2-a -mtune=generic -Wno-unused-local-typedefs -Wno-unused-function -Wno-deprecated-declarations -Wno-unused-const-variable -Wno-unused-but-set-variable -Wno-missing-braces -fstack-protector-strong -gdwarf64 -Wa,--nocompress-debug-sections -Wimplicit-fallthrough=5',\n",
       "  'cxx': '/opt/mongodbtoolchain/v4/bin/g++: g++ (GCC) 11.3.0',\n",
       "  'cxxflags': '-Woverloaded-virtual -Wpessimizing-move -Wno-maybe-uninitialized -fsized-deallocation -Wno-deprecated -std=c++20',\n",
       "  'linkflags': '-Wl,--fatal-warnings -B/opt/mongodbtoolchain/v4/bin -gdwarf-5 -pthread -Wl,-z,now -fuse-ld=lld -fstack-protector-strong -gdwarf64 -Wl,--build-id -Wl,--hash-style=gnu -Wl,-z,noexecstack -Wl,--warn-execstack -Wl,-z,relro -Wl,--compress-debug-sections=none -Wl,-z,origin -Wl,--enable-new-dtags',\n",
       "  'target_arch': 'aarch64',\n",
       "  'target_os': 'linux',\n",
       "  'cppdefines': 'SAFEINT_USE_INTRINSICS 0 PCRE2_STATIC NDEBUG _XOPEN_SOURCE 700 _GNU_SOURCE _FORTIFY_SOURCE 2 ABSL_FORCE_ALIGNED_ACCESS BOOST_ENABLE_ASSERT_DEBUG_HANDLER BOOST_FILESYSTEM_NO_CXX20_ATOMIC_REF BOOST_LOG_NO_SHORTHAND_NAMES BOOST_LOG_USE_NATIVE_SYSLOG BOOST_LOG_WITHOUT_THREAD_ATTR BOOST_MATH_NO_LONG_DOUBLE_MATH_FUNCTIONS BOOST_SYSTEM_NO_DEPRECATED BOOST_THREAD_USES_DATETIME BOOST_THREAD_VERSION 5'},\n",
       " 'bits': 64,\n",
       " 'debug': False,\n",
       " 'maxBsonObjectSize': 16777216,\n",
       " 'storageEngines': ['devnull', 'wiredTiger'],\n",
       " 'ok': 1.0}"
      ]
     },
     "execution_count": 5,
     "metadata": {},
     "output_type": "execute_result"
    }
   ],
   "source": [
    "client.server_info()"
   ]
  },
  {
   "cell_type": "markdown",
   "id": "debcc53f-0b74-4b66-bd90-681edd95dcdb",
   "metadata": {},
   "source": [
    "## Create Database & Collection"
   ]
  },
  {
   "cell_type": "code",
   "execution_count": 13,
   "id": "a8824a94-5664-4e56-8583-963077631034",
   "metadata": {},
   "outputs": [],
   "source": [
    "db = client['nio']\n",
    "tweets_col = db['tweets']"
   ]
  },
  {
   "cell_type": "markdown",
   "id": "60eae405-2980-4cca-832b-3307155e576b",
   "metadata": {},
   "source": [
    "## Load Data into the database"
   ]
  },
  {
   "cell_type": "code",
   "execution_count": 13,
   "id": "47962c93-4a5e-4dda-a051-7e3464282a2b",
   "metadata": {},
   "outputs": [
    {
     "data": {
      "application/vnd.jupyter.widget-view+json": {
       "model_id": "0d6235cb19f64dcdab3ac6d9c3366306",
       "version_major": 2,
       "version_minor": 0
      },
      "text/plain": [
       "  0%|          | 0/843854 [00:00<?, ?it/s]"
      ]
     },
     "metadata": {},
     "output_type": "display_data"
    },
    {
     "name": "stdout",
     "output_type": "stream",
     "text": [
      "[ObjectId('6681b23d34f58518da1d647d'), ObjectId('6681b23d34f58518da1d647e'), ObjectId('6681b23d34f58518da1d647f'), ObjectId('6681b23d34f58518da1d6480'), ObjectId('6681b23d34f58518da1d6481'), ObjectId('6681b23d34f58518da1d6482'), ObjectId('6681b23d34f58518da1d6483'), ObjectId('6681b23d34f58518da1d6484'), ObjectId('6681b23d34f58518da1d6485'), ObjectId('6681b23d34f58518da1d6486')]\n"
     ]
    }
   ],
   "source": [
    "num_lines = sum(1 for _ in open(large_tsv, 'r'))\n",
    "\n",
    "with open(large_tsv, 'r') as fIn:\n",
    "    docs=[]\n",
    "    \n",
    "    for line_ind, line in tqdm(enumerate(fIn.readlines()), total=num_lines):\n",
    "        if line_ind==0:\n",
    "            col_headers=line.split(\"\\t\")\n",
    "        else:\n",
    "            doc = {}\n",
    "            \n",
    "            for col_ind, col_val in enumerate(line.split(\"\\t\")):\n",
    "               doc[col_headers[col_ind]] = col_val\n",
    "            \n",
    "            docs.append(doc)\n",
    "\n",
    "print(\"Bulk Inserting Documents.\")\n",
    "result = tweets_col.insert_many(docs)\n",
    "print(result.inserted_ids[:10])"
   ]
  },
  {
   "cell_type": "markdown",
   "id": "06b8e270-56cd-46b7-ba83-9947f8ee30cd",
   "metadata": {},
   "source": [
    "## Create Text Index on `text` field"
   ]
  },
  {
   "cell_type": "code",
   "execution_count": 18,
   "id": "4aeda680-2375-4aeb-82d2-e6a46e35e60f",
   "metadata": {},
   "outputs": [
    {
     "data": {
      "text/plain": [
       "'text_text'"
      ]
     },
     "execution_count": 18,
     "metadata": {},
     "output_type": "execute_result"
    }
   ],
   "source": [
    "tweets_col.create_index({\"text\":\"text\"})"
   ]
  },
  {
   "cell_type": "markdown",
   "id": "11d9bc0a-6710-44aa-8153-596247abb6cc",
   "metadata": {},
   "source": [
    "# Part 2 - Querying the Data\n",
    "Construct functionality that allows you to query the data. If we search for a term, like “music,” we would like to know some subset of the following:\n",
    "* How many tweets were posted containing the term on each day?\n",
    "* How many unique users posted a tweet containing the term?\n",
    "* How many likes did tweets containing the term get, on average?\n",
    "* Where (in terms of place IDs) did the tweets come from?\n",
    "* What times of day were the tweets posted at? \n",
    "* Which user posted the most tweets containing the term?"
   ]
  },
  {
   "cell_type": "code",
   "execution_count": 30,
   "id": "228b60fd-06cb-4f96-af6a-de5290f7276e",
   "metadata": {},
   "outputs": [],
   "source": [
    "def get_tweets(term):\n",
    "    q = {\"$text\":\n",
    "         {\"$search\": term},\n",
    "    }\n",
    "\n",
    "    print(\"retreiving...\")\n",
    "    start_t = time.time()\n",
    "    results = list(tweets_col.find(q, {\"text\":1, \"id\":1,\"ts1\":1, \"place_id\": 1, \"author_id\":1, \"author_handle\":1, \"like_count\":1}))\n",
    "    print(f\"Query took {time.time()-start_t} seconds.\")\n",
    "\n",
    "    print(\"counting...\")\n",
    "    results_df = pd.DataFrame(results).set_index('id')\n",
    "    results_df['datetime'] = pd.to_datetime(results_df['ts1'])\n",
    "    results_df['like_count'] = pd.to_numeric(results_df['like_count'], downcast='integer', errors='coerce')\n",
    "\n",
    "    return results_df"
   ]
  },
  {
   "cell_type": "code",
   "execution_count": 35,
   "id": "5f4f37ee-1d6d-4357-a1d5-3dbeb44d302e",
   "metadata": {},
   "outputs": [
    {
     "ename": "KeyError",
     "evalue": "'1131594960443199488'",
     "output_type": "error",
     "traceback": [
      "\u001b[0;31m---------------------------------------------------------------------------\u001b[0m",
      "\u001b[0;31mKeyError\u001b[0m                                  Traceback (most recent call last)",
      "File \u001b[0;32m/opt/conda/lib/python3.11/site-packages/pandas/core/indexes/base.py:3790\u001b[0m, in \u001b[0;36mIndex.get_loc\u001b[0;34m(self, key)\u001b[0m\n\u001b[1;32m   3789\u001b[0m \u001b[38;5;28;01mtry\u001b[39;00m:\n\u001b[0;32m-> 3790\u001b[0m     \u001b[38;5;28;01mreturn\u001b[39;00m \u001b[38;5;28;43mself\u001b[39;49m\u001b[38;5;241;43m.\u001b[39;49m\u001b[43m_engine\u001b[49m\u001b[38;5;241;43m.\u001b[39;49m\u001b[43mget_loc\u001b[49m\u001b[43m(\u001b[49m\u001b[43mcasted_key\u001b[49m\u001b[43m)\u001b[49m\n\u001b[1;32m   3791\u001b[0m \u001b[38;5;28;01mexcept\u001b[39;00m \u001b[38;5;167;01mKeyError\u001b[39;00m \u001b[38;5;28;01mas\u001b[39;00m err:\n",
      "File \u001b[0;32mindex.pyx:152\u001b[0m, in \u001b[0;36mpandas._libs.index.IndexEngine.get_loc\u001b[0;34m()\u001b[0m\n",
      "File \u001b[0;32mindex.pyx:176\u001b[0m, in \u001b[0;36mpandas._libs.index.IndexEngine.get_loc\u001b[0;34m()\u001b[0m\n",
      "File \u001b[0;32mindex.pyx:219\u001b[0m, in \u001b[0;36mpandas._libs.index.IndexEngine._get_loc_duplicates\u001b[0;34m()\u001b[0m\n",
      "File \u001b[0;32mindex.pyx:227\u001b[0m, in \u001b[0;36mpandas._libs.index.IndexEngine._maybe_get_bool_indexer\u001b[0;34m()\u001b[0m\n",
      "File \u001b[0;32mindex.pyx:119\u001b[0m, in \u001b[0;36mpandas._libs.index._unpack_bool_indexer\u001b[0;34m()\u001b[0m\n",
      "\u001b[0;31mKeyError\u001b[0m: '1131594960443199488'",
      "\nThe above exception was the direct cause of the following exception:\n",
      "\u001b[0;31mKeyError\u001b[0m                                  Traceback (most recent call last)",
      "Cell \u001b[0;32mIn[35], line 1\u001b[0m\n\u001b[0;32m----> 1\u001b[0m \u001b[43mterm_df\u001b[49m\u001b[38;5;241;43m.\u001b[39;49m\u001b[43mloc\u001b[49m\u001b[43m[\u001b[49m\u001b[38;5;124;43m'\u001b[39;49m\u001b[38;5;124;43m1131594960443199488\u001b[39;49m\u001b[38;5;124;43m'\u001b[39;49m\u001b[43m]\u001b[49m\n",
      "File \u001b[0;32m/opt/conda/lib/python3.11/site-packages/pandas/core/indexing.py:1153\u001b[0m, in \u001b[0;36m_LocationIndexer.__getitem__\u001b[0;34m(self, key)\u001b[0m\n\u001b[1;32m   1150\u001b[0m axis \u001b[38;5;241m=\u001b[39m \u001b[38;5;28mself\u001b[39m\u001b[38;5;241m.\u001b[39maxis \u001b[38;5;129;01mor\u001b[39;00m \u001b[38;5;241m0\u001b[39m\n\u001b[1;32m   1152\u001b[0m maybe_callable \u001b[38;5;241m=\u001b[39m com\u001b[38;5;241m.\u001b[39mapply_if_callable(key, \u001b[38;5;28mself\u001b[39m\u001b[38;5;241m.\u001b[39mobj)\n\u001b[0;32m-> 1153\u001b[0m \u001b[38;5;28;01mreturn\u001b[39;00m \u001b[38;5;28;43mself\u001b[39;49m\u001b[38;5;241;43m.\u001b[39;49m\u001b[43m_getitem_axis\u001b[49m\u001b[43m(\u001b[49m\u001b[43mmaybe_callable\u001b[49m\u001b[43m,\u001b[49m\u001b[43m \u001b[49m\u001b[43maxis\u001b[49m\u001b[38;5;241;43m=\u001b[39;49m\u001b[43maxis\u001b[49m\u001b[43m)\u001b[49m\n",
      "File \u001b[0;32m/opt/conda/lib/python3.11/site-packages/pandas/core/indexing.py:1393\u001b[0m, in \u001b[0;36m_LocIndexer._getitem_axis\u001b[0;34m(self, key, axis)\u001b[0m\n\u001b[1;32m   1391\u001b[0m \u001b[38;5;66;03m# fall thru to straight lookup\u001b[39;00m\n\u001b[1;32m   1392\u001b[0m \u001b[38;5;28mself\u001b[39m\u001b[38;5;241m.\u001b[39m_validate_key(key, axis)\n\u001b[0;32m-> 1393\u001b[0m \u001b[38;5;28;01mreturn\u001b[39;00m \u001b[38;5;28;43mself\u001b[39;49m\u001b[38;5;241;43m.\u001b[39;49m\u001b[43m_get_label\u001b[49m\u001b[43m(\u001b[49m\u001b[43mkey\u001b[49m\u001b[43m,\u001b[49m\u001b[43m \u001b[49m\u001b[43maxis\u001b[49m\u001b[38;5;241;43m=\u001b[39;49m\u001b[43maxis\u001b[49m\u001b[43m)\u001b[49m\n",
      "File \u001b[0;32m/opt/conda/lib/python3.11/site-packages/pandas/core/indexing.py:1343\u001b[0m, in \u001b[0;36m_LocIndexer._get_label\u001b[0;34m(self, label, axis)\u001b[0m\n\u001b[1;32m   1341\u001b[0m \u001b[38;5;28;01mdef\u001b[39;00m \u001b[38;5;21m_get_label\u001b[39m(\u001b[38;5;28mself\u001b[39m, label, axis: AxisInt):\n\u001b[1;32m   1342\u001b[0m     \u001b[38;5;66;03m# GH#5567 this will fail if the label is not present in the axis.\u001b[39;00m\n\u001b[0;32m-> 1343\u001b[0m     \u001b[38;5;28;01mreturn\u001b[39;00m \u001b[38;5;28;43mself\u001b[39;49m\u001b[38;5;241;43m.\u001b[39;49m\u001b[43mobj\u001b[49m\u001b[38;5;241;43m.\u001b[39;49m\u001b[43mxs\u001b[49m\u001b[43m(\u001b[49m\u001b[43mlabel\u001b[49m\u001b[43m,\u001b[49m\u001b[43m \u001b[49m\u001b[43maxis\u001b[49m\u001b[38;5;241;43m=\u001b[39;49m\u001b[43maxis\u001b[49m\u001b[43m)\u001b[49m\n",
      "File \u001b[0;32m/opt/conda/lib/python3.11/site-packages/pandas/core/generic.py:4236\u001b[0m, in \u001b[0;36mNDFrame.xs\u001b[0;34m(self, key, axis, level, drop_level)\u001b[0m\n\u001b[1;32m   4234\u001b[0m             new_index \u001b[38;5;241m=\u001b[39m index[loc]\n\u001b[1;32m   4235\u001b[0m \u001b[38;5;28;01melse\u001b[39;00m:\n\u001b[0;32m-> 4236\u001b[0m     loc \u001b[38;5;241m=\u001b[39m \u001b[43mindex\u001b[49m\u001b[38;5;241;43m.\u001b[39;49m\u001b[43mget_loc\u001b[49m\u001b[43m(\u001b[49m\u001b[43mkey\u001b[49m\u001b[43m)\u001b[49m\n\u001b[1;32m   4238\u001b[0m     \u001b[38;5;28;01mif\u001b[39;00m \u001b[38;5;28misinstance\u001b[39m(loc, np\u001b[38;5;241m.\u001b[39mndarray):\n\u001b[1;32m   4239\u001b[0m         \u001b[38;5;28;01mif\u001b[39;00m loc\u001b[38;5;241m.\u001b[39mdtype \u001b[38;5;241m==\u001b[39m np\u001b[38;5;241m.\u001b[39mbool_:\n",
      "File \u001b[0;32m/opt/conda/lib/python3.11/site-packages/pandas/core/indexes/base.py:3797\u001b[0m, in \u001b[0;36mIndex.get_loc\u001b[0;34m(self, key)\u001b[0m\n\u001b[1;32m   3792\u001b[0m     \u001b[38;5;28;01mif\u001b[39;00m \u001b[38;5;28misinstance\u001b[39m(casted_key, \u001b[38;5;28mslice\u001b[39m) \u001b[38;5;129;01mor\u001b[39;00m (\n\u001b[1;32m   3793\u001b[0m         \u001b[38;5;28misinstance\u001b[39m(casted_key, abc\u001b[38;5;241m.\u001b[39mIterable)\n\u001b[1;32m   3794\u001b[0m         \u001b[38;5;129;01mand\u001b[39;00m \u001b[38;5;28many\u001b[39m(\u001b[38;5;28misinstance\u001b[39m(x, \u001b[38;5;28mslice\u001b[39m) \u001b[38;5;28;01mfor\u001b[39;00m x \u001b[38;5;129;01min\u001b[39;00m casted_key)\n\u001b[1;32m   3795\u001b[0m     ):\n\u001b[1;32m   3796\u001b[0m         \u001b[38;5;28;01mraise\u001b[39;00m InvalidIndexError(key)\n\u001b[0;32m-> 3797\u001b[0m     \u001b[38;5;28;01mraise\u001b[39;00m \u001b[38;5;167;01mKeyError\u001b[39;00m(key) \u001b[38;5;28;01mfrom\u001b[39;00m \u001b[38;5;21;01merr\u001b[39;00m\n\u001b[1;32m   3798\u001b[0m \u001b[38;5;28;01mexcept\u001b[39;00m \u001b[38;5;167;01mTypeError\u001b[39;00m:\n\u001b[1;32m   3799\u001b[0m     \u001b[38;5;66;03m# If we have a listlike key, _check_indexing_error will raise\u001b[39;00m\n\u001b[1;32m   3800\u001b[0m     \u001b[38;5;66;03m#  InvalidIndexError. Otherwise we fall through and re-raise\u001b[39;00m\n\u001b[1;32m   3801\u001b[0m     \u001b[38;5;66;03m#  the TypeError.\u001b[39;00m\n\u001b[1;32m   3802\u001b[0m     \u001b[38;5;28mself\u001b[39m\u001b[38;5;241m.\u001b[39m_check_indexing_error(key)\n",
      "\u001b[0;31mKeyError\u001b[0m: '1131594960443199488'"
     ]
    }
   ],
   "source": [
    "term_df.loc['1131594960443199488']"
   ]
  },
  {
   "cell_type": "markdown",
   "id": "b0fdabb0-8748-49d2-819d-4036895f0795",
   "metadata": {},
   "source": [
    "### How many tweets were posted containing the term on each day?"
   ]
  },
  {
   "cell_type": "code",
   "execution_count": 31,
   "id": "a6f2dcd5-8c22-48c0-9e03-cfd8957dc78e",
   "metadata": {},
   "outputs": [],
   "source": [
    "def tweet_count_per_day(term_df):\n",
    "    counts_df = term_df.groupby([term_df['datetime'].dt.date]).count()\n",
    "\n",
    "    print(\"serializing...\")\n",
    "    data = []\n",
    "    \n",
    "    for ind, row in counts_df.iterrows():\n",
    "        record = {'date':ind.strftime(\"%Y-%m-%d\"),\n",
    "                  'count':int(row['text'])}\n",
    "        data.append(record)\n",
    "\n",
    "    return data"
   ]
  },
  {
   "cell_type": "code",
   "execution_count": 32,
   "id": "29626856-b948-43f6-9a25-45b2d67a0de0",
   "metadata": {},
   "outputs": [
    {
     "name": "stdout",
     "output_type": "stream",
     "text": [
      "retreiving...\n",
      "Query took 0.011831045150756836 seconds.\n",
      "counting...\n",
      "serializing...\n"
     ]
    },
    {
     "data": {
      "text/plain": [
       "[{'date': '2022-01-04', 'count': 1},\n",
       " {'date': '2022-01-05', 'count': 6},\n",
       " {'date': '2022-03-01', 'count': 530}]"
      ]
     },
     "execution_count": 32,
     "metadata": {},
     "output_type": "execute_result"
    }
   ],
   "source": [
    "term_df = get_tweets(\"loneliness\")\n",
    "tweet_count_per_day(term_df)"
   ]
  },
  {
   "cell_type": "code",
   "execution_count": 33,
   "id": "25f8834e-fc90-4a0d-81f1-2b8415a5c83b",
   "metadata": {},
   "outputs": [
    {
     "data": {
      "text/html": [
       "<div>\n",
       "<style scoped>\n",
       "    .dataframe tbody tr th:only-of-type {\n",
       "        vertical-align: middle;\n",
       "    }\n",
       "\n",
       "    .dataframe tbody tr th {\n",
       "        vertical-align: top;\n",
       "    }\n",
       "\n",
       "    .dataframe thead th {\n",
       "        text-align: right;\n",
       "    }\n",
       "</style>\n",
       "<table border=\"1\" class=\"dataframe\">\n",
       "  <thead>\n",
       "    <tr style=\"text-align: right;\">\n",
       "      <th></th>\n",
       "      <th>_id</th>\n",
       "      <th>ts1</th>\n",
       "      <th>text</th>\n",
       "      <th>author_id</th>\n",
       "      <th>author_handle</th>\n",
       "      <th>like_count</th>\n",
       "      <th>datetime</th>\n",
       "    </tr>\n",
       "    <tr>\n",
       "      <th>id</th>\n",
       "      <th></th>\n",
       "      <th></th>\n",
       "      <th></th>\n",
       "      <th></th>\n",
       "      <th></th>\n",
       "      <th></th>\n",
       "      <th></th>\n",
       "    </tr>\n",
       "  </thead>\n",
       "  <tbody>\n",
       "    <tr>\n",
       "      <th>1360054061203140609</th>\n",
       "      <td>6681b24b34f58518da2300ec</td>\n",
       "      <td>2022-03-01 07:55:32.673859-05:00</td>\n",
       "      <td>\"My loneliness is killing me\" -Britney Spears ...</td>\n",
       "      <td>1411800175</td>\n",
       "      <td>RachelMComedy</td>\n",
       "      <td>749</td>\n",
       "      <td>2022-03-01 07:55:32.673859-05:00</td>\n",
       "    </tr>\n",
       "    <tr>\n",
       "      <th>1363033764117377029</th>\n",
       "      <td>6681b24b34f58518da22671e</td>\n",
       "      <td>2022-03-01 07:53:58.711658-05:00</td>\n",
       "      <td>From \"my loneliness is killing me\"   to \"my lo...</td>\n",
       "      <td>1033227162524893184</td>\n",
       "      <td>RedRoomAlumna</td>\n",
       "      <td>1</td>\n",
       "      <td>2022-03-01 07:53:58.711658-05:00</td>\n",
       "    </tr>\n",
       "    <tr>\n",
       "      <th>1360054114453970946</th>\n",
       "      <td>6681b24f34f58518da252849</td>\n",
       "      <td>2022-03-01 08:26:31.664896-05:00</td>\n",
       "      <td>RT @RachelMComedy: \"My loneliness is killing m...</td>\n",
       "      <td>196659829</td>\n",
       "      <td>ElleCuhBong</td>\n",
       "      <td>0</td>\n",
       "      <td>2022-03-01 08:26:31.664896-05:00</td>\n",
       "    </tr>\n",
       "    <tr>\n",
       "      <th>1360054345069379592</th>\n",
       "      <td>6681b24f34f58518da25281a</td>\n",
       "      <td>2022-03-01 08:26:31.659370-05:00</td>\n",
       "      <td>RT @RachelMComedy: \"My loneliness is killing m...</td>\n",
       "      <td>47706419</td>\n",
       "      <td>Krakoan_Lorax</td>\n",
       "      <td>0</td>\n",
       "      <td>2022-03-01 08:26:31.659370-05:00</td>\n",
       "    </tr>\n",
       "    <tr>\n",
       "      <th>1360055360330084352</th>\n",
       "      <td>6681b24f34f58518da252777</td>\n",
       "      <td>2022-03-01 08:26:28.561586-05:00</td>\n",
       "      <td>RT @RachelMComedy: \"My loneliness is killing m...</td>\n",
       "      <td>3050023319</td>\n",
       "      <td>treydayway</td>\n",
       "      <td>0</td>\n",
       "      <td>2022-03-01 08:26:28.561586-05:00</td>\n",
       "    </tr>\n",
       "  </tbody>\n",
       "</table>\n",
       "</div>"
      ],
      "text/plain": [
       "                                          _id  \\\n",
       "id                                              \n",
       "1360054061203140609  6681b24b34f58518da2300ec   \n",
       "1363033764117377029  6681b24b34f58518da22671e   \n",
       "1360054114453970946  6681b24f34f58518da252849   \n",
       "1360054345069379592  6681b24f34f58518da25281a   \n",
       "1360055360330084352  6681b24f34f58518da252777   \n",
       "\n",
       "                                                  ts1  \\\n",
       "id                                                      \n",
       "1360054061203140609  2022-03-01 07:55:32.673859-05:00   \n",
       "1363033764117377029  2022-03-01 07:53:58.711658-05:00   \n",
       "1360054114453970946  2022-03-01 08:26:31.664896-05:00   \n",
       "1360054345069379592  2022-03-01 08:26:31.659370-05:00   \n",
       "1360055360330084352  2022-03-01 08:26:28.561586-05:00   \n",
       "\n",
       "                                                                  text  \\\n",
       "id                                                                       \n",
       "1360054061203140609  \"My loneliness is killing me\" -Britney Spears ...   \n",
       "1363033764117377029  From \"my loneliness is killing me\"   to \"my lo...   \n",
       "1360054114453970946  RT @RachelMComedy: \"My loneliness is killing m...   \n",
       "1360054345069379592  RT @RachelMComedy: \"My loneliness is killing m...   \n",
       "1360055360330084352  RT @RachelMComedy: \"My loneliness is killing m...   \n",
       "\n",
       "                               author_id  author_handle  like_count  \\\n",
       "id                                                                    \n",
       "1360054061203140609           1411800175  RachelMComedy         749   \n",
       "1363033764117377029  1033227162524893184  RedRoomAlumna           1   \n",
       "1360054114453970946            196659829    ElleCuhBong           0   \n",
       "1360054345069379592             47706419  Krakoan_Lorax           0   \n",
       "1360055360330084352           3050023319     treydayway           0   \n",
       "\n",
       "                                            datetime  \n",
       "id                                                    \n",
       "1360054061203140609 2022-03-01 07:55:32.673859-05:00  \n",
       "1363033764117377029 2022-03-01 07:53:58.711658-05:00  \n",
       "1360054114453970946 2022-03-01 08:26:31.664896-05:00  \n",
       "1360054345069379592 2022-03-01 08:26:31.659370-05:00  \n",
       "1360055360330084352 2022-03-01 08:26:28.561586-05:00  "
      ]
     },
     "execution_count": 33,
     "metadata": {},
     "output_type": "execute_result"
    }
   ],
   "source": [
    "term_df.head()"
   ]
  },
  {
   "cell_type": "markdown",
   "id": "677cad18-0156-470e-bd41-4539c8f662de",
   "metadata": {},
   "source": [
    "### How many unique users posted a tweet containing the term?"
   ]
  },
  {
   "cell_type": "code",
   "execution_count": 10,
   "id": "936b28e4-6bf9-4704-921b-a3f94b246ef9",
   "metadata": {},
   "outputs": [
    {
     "data": {
      "text/plain": [
       "(354479,)"
      ]
     },
     "execution_count": 10,
     "metadata": {},
     "output_type": "execute_result"
    }
   ],
   "source": [
    "author_vc = term_df['author_id'].value_counts()\n",
    "author_vc.shape"
   ]
  },
  {
   "cell_type": "markdown",
   "id": "d0b0c720-daef-4239-8bfd-e23cdb9514b1",
   "metadata": {},
   "source": [
    "### How many likes did tweets containing the term get, on average?"
   ]
  },
  {
   "cell_type": "code",
   "execution_count": 11,
   "id": "062bd3be-873a-4bfa-8548-1f17317e39db",
   "metadata": {
    "scrolled": true
   },
   "outputs": [
    {
     "data": {
      "text/plain": [
       "7.897923772542023"
      ]
     },
     "execution_count": 11,
     "metadata": {},
     "output_type": "execute_result"
    }
   ],
   "source": [
    "term_df['like_count'].mean()"
   ]
  },
  {
   "cell_type": "markdown",
   "id": "49cd87a6-18c6-4a36-b3cd-5457b74029ca",
   "metadata": {},
   "source": [
    "### Where (in terms of place IDs) did the tweets come from?"
   ]
  },
  {
   "cell_type": "code",
   "execution_count": 12,
   "id": "f85afcd1-74a8-4d70-bd4f-e51d092588bc",
   "metadata": {},
   "outputs": [
    {
     "name": "stdout",
     "output_type": "stream",
     "text": [
      "no place_id\n",
      "0\n"
     ]
    }
   ],
   "source": [
    "test_df = term_df\n",
    "\n",
    "if 'place_id' not in test_df.columns:\n",
    "    print(\"no place_id\")\n",
    "    place_ids = []\n",
    "else:\n",
    "    place_ids = list(test_df['place_id'].unique())\n",
    "\n",
    "print(len(place_ids))"
   ]
  },
  {
   "cell_type": "markdown",
   "id": "95db1cc4-f266-4b4c-92b1-22306c4c2c34",
   "metadata": {},
   "source": [
    "### What times of day were the tweets posted at?"
   ]
  },
  {
   "cell_type": "code",
   "execution_count": 14,
   "id": "cc821296-a605-4854-9e8d-12437bc5db46",
   "metadata": {},
   "outputs": [
    {
     "data": {
      "text/plain": [
       "(188536, 5)"
      ]
     },
     "execution_count": 14,
     "metadata": {},
     "output_type": "execute_result"
    }
   ],
   "source": [
    "term_df.set_index('datetime').between_time('09:00:00', '10:00:00').shape"
   ]
  },
  {
   "cell_type": "code",
   "execution_count": 15,
   "id": "32aad78c-73e1-46c5-adf0-baf1d850ca5c",
   "metadata": {},
   "outputs": [],
   "source": [
    "morning_df = term_df.set_index('datetime').between_time('05:00:00', '12:00:00')\n",
    "afternoon_df = term_df.set_index('datetime').between_time('12:00:00','17:00:00')\n",
    "evening_df = term_df.set_index('datetime').between_time('17:00:00','23:59:59')\n",
    "overnight_df = term_df.set_index('datetime').between_time('00:00:00','05:00:00')"
   ]
  },
  {
   "cell_type": "markdown",
   "id": "600ba3a8-0f83-4baf-b69d-72c300fbe282",
   "metadata": {},
   "source": [
    "### Which user posted the most tweets containing the term?"
   ]
  },
  {
   "cell_type": "code",
   "execution_count": 16,
   "id": "809b108b-f37c-4458-9dba-3a8abee5afa5",
   "metadata": {},
   "outputs": [
    {
     "data": {
      "text/plain": [
       "'britneyplaylist'"
      ]
     },
     "execution_count": 16,
     "metadata": {},
     "output_type": "execute_result"
    }
   ],
   "source": [
    "term_df['author_handle'].value_counts().index[0]"
   ]
  },
  {
   "cell_type": "markdown",
   "id": "fc5e9ef1-9a12-42ea-b76c-15065e40766a",
   "metadata": {},
   "source": [
    "# Putting it into a method"
   ]
  },
  {
   "cell_type": "code",
   "execution_count": 10,
   "id": "35259882-02a5-448b-a445-ca34aefa96b3",
   "metadata": {},
   "outputs": [],
   "source": [
    "def query_term(term):\n",
    "    start_t = time.time()\n",
    "    term_df = get_tweets(term)\n",
    "    time_to_query = time.time() - start_t\n",
    "    # How many tweets were posted containing the term on each day?\n",
    "    daily_counts = tweet_count_per_day(term_df)\n",
    "\n",
    "    # How many unique users posted a tweet containing the term?\n",
    "    author_vc = term_df['author_id'].value_counts()\n",
    "    unique_users = len(author_vc)\n",
    "\n",
    "    # How many likes did tweets containing the term get, on average?\n",
    "    avg_likes_per_tweet = round(term_df['like_count'].mean(), 3)\n",
    "\n",
    "    # Where (in terms of place IDs) did the tweets come from?\n",
    "    place_ids = []\n",
    "    if 'place_id' in term_df.columns:\n",
    "        place_ids = list(term_df['place_id'].unique())\n",
    "\n",
    "    # What times of day were the tweets posted at?\n",
    "    term_df = term_df.set_index('datetime')\n",
    "    morning_df = term_df.between_time('05:00:00', '12:00:00')\n",
    "    afternoon_df = term_df.between_time('12:00:00','17:00:00')\n",
    "    evening_df = term_df.between_time('17:00:00','23:59:59')\n",
    "    overnight_df = term_df.between_time('00:00:00','05:00:00')\n",
    "\n",
    "    times_of_day = {'morning':len(morning_df),\n",
    "                    'afternoon':len(afternoon_df),\n",
    "                    'evening':len(evening_df),\n",
    "                    'overnight':len(overnight_df)}\n",
    "\n",
    "    results = {'term':term,\n",
    "               'time_to_complete_query':time_to_query,\n",
    "               'counts_by_day':daily_counts,\n",
    "               'users':unique_users,\n",
    "               'avg_likes_per_tweet':avg_likes_per_tweet,\n",
    "               'place_ids':place_ids,\n",
    "               'times_of_day':times_of_day}\n",
    "    return results"
   ]
  },
  {
   "cell_type": "code",
   "execution_count": 18,
   "id": "f728e10b-f4de-4c15-b0a4-c57892be4851",
   "metadata": {},
   "outputs": [
    {
     "name": "stdout",
     "output_type": "stream",
     "text": [
      "retreiving...\n",
      "Query took 0.45240306854248047 seconds.\n",
      "counting...\n",
      "serializing...\n"
     ]
    },
    {
     "data": {
      "text/plain": [
       "{'term': 'music',\n",
       " 'time_to_complete_query': 0.6354808807373047,\n",
       " 'counts_by_day': [{'date': '2022-01-04', 'count': 276},\n",
       "  {'date': '2022-01-05', 'count': 1219},\n",
       "  {'date': '2022-01-22', 'count': 14},\n",
       "  {'date': '2022-03-01', 'count': 24513}],\n",
       " 'users': 18532,\n",
       " 'avg_likes_per_tweet': 112.733,\n",
       " 'place_ids': [],\n",
       " 'times_of_day': {'morning': 25732,\n",
       "  'afternoon': 9,\n",
       "  'evening': 281,\n",
       "  'overnight': 0}}"
      ]
     },
     "execution_count": 18,
     "metadata": {},
     "output_type": "execute_result"
    }
   ],
   "source": [
    "result = query_term(\"music\")\n",
    "result"
   ]
  },
  {
   "cell_type": "code",
   "execution_count": 16,
   "id": "4abf6dfb-b7b6-4a04-a0db-5a026af8e493",
   "metadata": {},
   "outputs": [
    {
     "data": {
      "text/plain": [
       "numpy.int64"
      ]
     },
     "execution_count": 16,
     "metadata": {},
     "output_type": "execute_result"
    }
   ],
   "source": [
    "type(result['counts_by_day'][0]['count'])"
   ]
  },
  {
   "cell_type": "code",
   "execution_count": 12,
   "id": "c25cfefc-6098-4c99-855e-f4d1db6a9003",
   "metadata": {},
   "outputs": [],
   "source": [
    "import json"
   ]
  },
  {
   "cell_type": "code",
   "execution_count": 19,
   "id": "93e5cb2c-dcf4-4d52-ae4d-c4b6f72d4675",
   "metadata": {},
   "outputs": [
    {
     "data": {
      "text/plain": [
       "'{\"term\": \"music\", \"time_to_complete_query\": 0.6354808807373047, \"counts_by_day\": [{\"date\": \"2022-01-04\", \"count\": 276}, {\"date\": \"2022-01-05\", \"count\": 1219}, {\"date\": \"2022-01-22\", \"count\": 14}, {\"date\": \"2022-03-01\", \"count\": 24513}], \"users\": 18532, \"avg_likes_per_tweet\": 112.733, \"place_ids\": [], \"times_of_day\": {\"morning\": 25732, \"afternoon\": 9, \"evening\": 281, \"overnight\": 0}}'"
      ]
     },
     "execution_count": 19,
     "metadata": {},
     "output_type": "execute_result"
    }
   ],
   "source": [
    "json.dumps(result)"
   ]
  },
  {
   "cell_type": "code",
   "execution_count": null,
   "id": "557a984b-f55c-4780-9ce3-01fb7f151127",
   "metadata": {},
   "outputs": [],
   "source": []
  }
 ],
 "metadata": {
  "kernelspec": {
   "display_name": "Python 3 (ipykernel)",
   "language": "python",
   "name": "python3"
  },
  "language_info": {
   "codemirror_mode": {
    "name": "ipython",
    "version": 3
   },
   "file_extension": ".py",
   "mimetype": "text/x-python",
   "name": "python",
   "nbconvert_exporter": "python",
   "pygments_lexer": "ipython3",
   "version": "3.11.6"
  }
 },
 "nbformat": 4,
 "nbformat_minor": 5
}
