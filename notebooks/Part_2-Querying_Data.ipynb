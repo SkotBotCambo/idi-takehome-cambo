{
 "cells": [
  {
   "cell_type": "markdown",
   "id": "f88f0bde-91fc-4490-85e2-e66ea1ee4085",
   "metadata": {},
   "source": [
    "# Part 2 - Querying the Data\n",
    "Construct functionality that allows you to query the data. If we search for a term, like “music,” we would like to know some subset of the following:\n",
    "* How many tweets were posted containing the term on each day?\n",
    "* How many unique users posted a tweet containing the term?\n",
    "* How many likes did tweets containing the term get, on average?\n",
    "* Where (in terms of place IDs) did the tweets come from?\n",
    "* What times of day were the tweets posted at? \n",
    "* Which user posted the most tweets containing the term?"
   ]
  },
  {
   "cell_type": "markdown",
   "id": "a92bdc7e-da0e-4e6d-830d-be205b75eaf9",
   "metadata": {},
   "source": [
    "## Get Connection and reference to collection"
   ]
  },
  {
   "cell_type": "code",
   "execution_count": 9,
   "id": "b44b9bec-4ca2-4ad2-8782-731ede6eeb8f",
   "metadata": {},
   "outputs": [],
   "source": [
    "import pymongo\n",
    "from pymongo import MongoClient\n",
    "from pymongo.collection import Collection\n",
    "import urllib.parse\n",
    "import os\n",
    "import pandas as pd\n",
    "import time"
   ]
  },
  {
   "cell_type": "code",
   "execution_count": 4,
   "id": "f6bc2507-6adc-4dd7-bf31-b00c657fe9f3",
   "metadata": {},
   "outputs": [],
   "source": [
    "def get_client() -> MongoClient:\n",
    "    \"\"\"\n",
    "        creates a client for connecting to the database and returns it.\n",
    "    \"\"\"\n",
    "    client = MongoClient('mongodb',\n",
    "                     username=os.environ['MONGO_INITDB_ROOT_USERNAME'],\n",
    "                     password=os.environ['MONGO_INITDB_ROOT_PASSWORD'],\n",
    "                     authMechanism='SCRAM-SHA-256')\n",
    "\n",
    "    try:\n",
    "        # The ismaster command is cheap and does not require auth.\n",
    "        client.admin.command('ismaster')\n",
    "        print(\"MongoDB server Connection Test successful\")\n",
    "    except ConnectionFailure:\n",
    "        print(\"MongoDB server not available\")\n",
    "    \n",
    "    return client"
   ]
  },
  {
   "cell_type": "code",
   "execution_count": 5,
   "id": "3b7e6457-99a4-4952-ab92-26af8697d194",
   "metadata": {},
   "outputs": [
    {
     "name": "stdout",
     "output_type": "stream",
     "text": [
      "MongoDB server Connection Test successful\n"
     ]
    }
   ],
   "source": [
    "client = get_client()\n",
    "db = client['nio']\n",
    "tweets_col = db['tweets']"
   ]
  },
  {
   "cell_type": "markdown",
   "id": "6d6894e1-5c36-430d-bf25-8af940537c93",
   "metadata": {},
   "source": [
    "## First Step: Getting Tweets\n",
    "I wanted to start by writing a function that would just generally get all the tweets containing the term. Each of the questions above can be answered with just this subset of data. The `get_tweets(term)` function accepts a `term` as a string and returns a pandas `Dataframe` representing all of the records containing this term in the `text` field. \n",
    "\n",
    "While tha solution for each question still requires an additional step or two to transform and filter the day, these are all performed in python by the API server in order to keep the SQL queries simple. This might not be ideal depending on the needs of the project, but this decision allowed me to complete more of the requirements for this project."
   ]
  },
  {
   "cell_type": "code",
   "execution_count": 10,
   "id": "374b7655-97b9-47fc-b8d4-f8c59faf758e",
   "metadata": {},
   "outputs": [],
   "source": [
    "def get_tweets(term: str, tweets_col: Collection) -> pd.DataFrame:\n",
    "    \"\"\"queries the database for records containg a string matching `term`\n",
    "\n",
    "    Parameters\n",
    "    ----------\n",
    "    term: str, required\n",
    "        The term to query the database with\n",
    "        \n",
    "    \"\"\"\n",
    "    q = {\"$text\":\n",
    "         {\"$search\": term},\n",
    "    }\n",
    "\n",
    "    print(\"retreiving...\")\n",
    "    start_t = time.time()\n",
    "    results = list(tweets_col.find(q, {\"text\":1, \"ts1\":1, \"place_id\": 1, \"author_id\":1, \"author_handle\":1, \"like_count\":1}))\n",
    "    print(f\"Query took {time.time()-start_t} seconds.\")\n",
    "\n",
    "    print(\"counting...\")\n",
    "    results_df = pd.DataFrame(results).set_index('_id')\n",
    "    results_df['datetime'] = pd.to_datetime(results_df['ts1'])\n",
    "    results_df['like_count'] = pd.to_numeric(results_df['like_count'], downcast='integer', errors='coerce')\n",
    "\n",
    "    return results_df"
   ]
  },
  {
   "cell_type": "code",
   "execution_count": 11,
   "id": "f5d0113a-fd29-45a3-8ef5-2f05fe1996e8",
   "metadata": {},
   "outputs": [
    {
     "name": "stdout",
     "output_type": "stream",
     "text": [
      "retreiving...\n",
      "Query took 0.721980094909668 seconds.\n",
      "counting...\n"
     ]
    }
   ],
   "source": [
    "term_df = get_tweets(\"music\", tweets_col)"
   ]
  },
  {
   "cell_type": "code",
   "execution_count": 12,
   "id": "e77243ce-4492-4185-b8d7-593bac817861",
   "metadata": {},
   "outputs": [
    {
     "data": {
      "text/html": [
       "<div>\n",
       "<style scoped>\n",
       "    .dataframe tbody tr th:only-of-type {\n",
       "        vertical-align: middle;\n",
       "    }\n",
       "\n",
       "    .dataframe tbody tr th {\n",
       "        vertical-align: top;\n",
       "    }\n",
       "\n",
       "    .dataframe thead th {\n",
       "        text-align: right;\n",
       "    }\n",
       "</style>\n",
       "<table border=\"1\" class=\"dataframe\">\n",
       "  <thead>\n",
       "    <tr style=\"text-align: right;\">\n",
       "      <th></th>\n",
       "      <th>ts1</th>\n",
       "      <th>text</th>\n",
       "      <th>author_id</th>\n",
       "      <th>author_handle</th>\n",
       "      <th>like_count</th>\n",
       "      <th>datetime</th>\n",
       "    </tr>\n",
       "    <tr>\n",
       "      <th>_id</th>\n",
       "      <th></th>\n",
       "      <th></th>\n",
       "      <th></th>\n",
       "      <th></th>\n",
       "      <th></th>\n",
       "      <th></th>\n",
       "    </tr>\n",
       "  </thead>\n",
       "  <tbody>\n",
       "    <tr>\n",
       "      <th>6681b24534f58518da1ebe51</th>\n",
       "      <td>2022-03-01 07:00:10.314927-05:00</td>\n",
       "      <td>If I hate anything...I hate a music snob. I li...</td>\n",
       "      <td>52985792</td>\n",
       "      <td>DaCaptivating1</td>\n",
       "      <td>4</td>\n",
       "      <td>2022-03-01 07:00:10.314927-05:00</td>\n",
       "    </tr>\n",
       "    <tr>\n",
       "      <th>6681b25334f58518da286eca</th>\n",
       "      <td>2022-03-01 09:26:23.141990-05:00</td>\n",
       "      <td>anyone pls explain 2 me y middle eastern &amp;amp;...</td>\n",
       "      <td>363800896</td>\n",
       "      <td>SwallowBricks</td>\n",
       "      <td>93</td>\n",
       "      <td>2022-03-01 09:26:23.141990-05:00</td>\n",
       "    </tr>\n",
       "    <tr>\n",
       "      <th>6681b24834f58518da200060</th>\n",
       "      <td>2022-03-01 07:17:55.934769-05:00</td>\n",
       "      <td>@Michigrimk Oh, and if it's about music, it's ...</td>\n",
       "      <td>1070440946544840705</td>\n",
       "      <td>TheyMakeMad</td>\n",
       "      <td>1</td>\n",
       "      <td>2022-03-01 07:17:55.934769-05:00</td>\n",
       "    </tr>\n",
       "    <tr>\n",
       "      <th>6681b25134f58518da276210</th>\n",
       "      <td>2022-03-01 08:58:29.955943-05:00</td>\n",
       "      <td>@dramaticgorl @_lexadyanni This music you're t...</td>\n",
       "      <td>869062143685120001</td>\n",
       "      <td>immaputdishere</td>\n",
       "      <td>0</td>\n",
       "      <td>2022-03-01 08:58:29.955943-05:00</td>\n",
       "    </tr>\n",
       "    <tr>\n",
       "      <th>6681b24534f58518da1e7009</th>\n",
       "      <td>2022-03-01 09:19:52.324385-05:00</td>\n",
       "      <td>Guys it’s not about finding non-copyrighted mu...</td>\n",
       "      <td>713087063252418560</td>\n",
       "      <td>NintyPrime</td>\n",
       "      <td>6</td>\n",
       "      <td>2022-03-01 09:19:52.324385-05:00</td>\n",
       "    </tr>\n",
       "  </tbody>\n",
       "</table>\n",
       "</div>"
      ],
      "text/plain": [
       "                                                       ts1  \\\n",
       "_id                                                          \n",
       "6681b24534f58518da1ebe51  2022-03-01 07:00:10.314927-05:00   \n",
       "6681b25334f58518da286eca  2022-03-01 09:26:23.141990-05:00   \n",
       "6681b24834f58518da200060  2022-03-01 07:17:55.934769-05:00   \n",
       "6681b25134f58518da276210  2022-03-01 08:58:29.955943-05:00   \n",
       "6681b24534f58518da1e7009  2022-03-01 09:19:52.324385-05:00   \n",
       "\n",
       "                                                                       text  \\\n",
       "_id                                                                           \n",
       "6681b24534f58518da1ebe51  If I hate anything...I hate a music snob. I li...   \n",
       "6681b25334f58518da286eca  anyone pls explain 2 me y middle eastern &amp;...   \n",
       "6681b24834f58518da200060  @Michigrimk Oh, and if it's about music, it's ...   \n",
       "6681b25134f58518da276210  @dramaticgorl @_lexadyanni This music you're t...   \n",
       "6681b24534f58518da1e7009  Guys it’s not about finding non-copyrighted mu...   \n",
       "\n",
       "                                    author_id   author_handle  like_count  \\\n",
       "_id                                                                         \n",
       "6681b24534f58518da1ebe51             52985792  DaCaptivating1           4   \n",
       "6681b25334f58518da286eca            363800896   SwallowBricks          93   \n",
       "6681b24834f58518da200060  1070440946544840705     TheyMakeMad           1   \n",
       "6681b25134f58518da276210   869062143685120001  immaputdishere           0   \n",
       "6681b24534f58518da1e7009   713087063252418560      NintyPrime           6   \n",
       "\n",
       "                                                 datetime  \n",
       "_id                                                        \n",
       "6681b24534f58518da1ebe51 2022-03-01 07:00:10.314927-05:00  \n",
       "6681b25334f58518da286eca 2022-03-01 09:26:23.141990-05:00  \n",
       "6681b24834f58518da200060 2022-03-01 07:17:55.934769-05:00  \n",
       "6681b25134f58518da276210 2022-03-01 08:58:29.955943-05:00  \n",
       "6681b24534f58518da1e7009 2022-03-01 09:19:52.324385-05:00  "
      ]
     },
     "execution_count": 12,
     "metadata": {},
     "output_type": "execute_result"
    }
   ],
   "source": [
    "term_df.head()"
   ]
  },
  {
   "cell_type": "markdown",
   "id": "1e941535-bdd1-4e20-bd29-09b2c691b2dd",
   "metadata": {},
   "source": [
    "### How many tweets were posted containing the term on each day?"
   ]
  },
  {
   "cell_type": "code",
   "execution_count": 13,
   "id": "ec92bd5d-d8bb-4937-90af-e8bef02dac73",
   "metadata": {},
   "outputs": [],
   "source": [
    "def tweet_count_per_day(term_df):\n",
    "    counts_df = term_df.groupby([term_df['datetime'].dt.date]).count()\n",
    "\n",
    "    data = []\n",
    "    \n",
    "    for ind, row in counts_df.iterrows():\n",
    "        record = {'date':ind.strftime(\"%Y-%m-%d\"),\n",
    "                  'count':int(row['text'])}\n",
    "        data.append(record)\n",
    "\n",
    "    return data"
   ]
  },
  {
   "cell_type": "code",
   "execution_count": 14,
   "id": "7953a42c-074b-4d11-ac94-69a5e5e5d239",
   "metadata": {},
   "outputs": [
    {
     "data": {
      "text/plain": [
       "[{'date': '2022-01-04', 'count': 276},\n",
       " {'date': '2022-01-05', 'count': 1219},\n",
       " {'date': '2022-01-22', 'count': 14},\n",
       " {'date': '2022-03-01', 'count': 24513}]"
      ]
     },
     "execution_count": 14,
     "metadata": {},
     "output_type": "execute_result"
    }
   ],
   "source": [
    "tweet_count_per_day(term_df)"
   ]
  },
  {
   "cell_type": "markdown",
   "id": "dd4ce6d0-0043-44ac-abed-dc7619fb97da",
   "metadata": {},
   "source": [
    "### How many unique users posted a tweet containing the term?"
   ]
  },
  {
   "cell_type": "code",
   "execution_count": 15,
   "id": "07eadbfa-bfd6-4693-b414-74c23d18b126",
   "metadata": {},
   "outputs": [
    {
     "data": {
      "text/plain": [
       "(18532,)"
      ]
     },
     "execution_count": 15,
     "metadata": {},
     "output_type": "execute_result"
    }
   ],
   "source": [
    "author_vc = term_df['author_id'].value_counts()\n",
    "author_vc.shape"
   ]
  },
  {
   "cell_type": "markdown",
   "id": "88fc8880-e31e-4a08-aef9-c11d832175e6",
   "metadata": {},
   "source": [
    "### How many likes did tweets containing the term get, on average?"
   ]
  },
  {
   "cell_type": "code",
   "execution_count": 16,
   "id": "c7481cd2-48f4-42c2-a1b3-980f91d67b0f",
   "metadata": {
    "scrolled": true
   },
   "outputs": [
    {
     "data": {
      "text/plain": [
       "112.73311044500807"
      ]
     },
     "execution_count": 16,
     "metadata": {},
     "output_type": "execute_result"
    }
   ],
   "source": [
    "term_df['like_count'].mean()"
   ]
  },
  {
   "cell_type": "markdown",
   "id": "3e768bb4-118c-4d2b-bec1-012b2013e563",
   "metadata": {},
   "source": [
    "### Where (in terms of place IDs) did the tweets come from?"
   ]
  },
  {
   "cell_type": "code",
   "execution_count": 17,
   "id": "ba1a6c1a-ccfc-449a-b539-4e7e7cfb7ccf",
   "metadata": {},
   "outputs": [
    {
     "name": "stdout",
     "output_type": "stream",
     "text": [
      "0\n"
     ]
    }
   ],
   "source": [
    "test_df = term_df\n",
    "\n",
    "if 'place_id' not in test_df.columns:\n",
    "    place_ids = []\n",
    "else:\n",
    "    place_ids = list(test_df['place_id'].unique())\n",
    "\n",
    "print(len(place_ids))"
   ]
  },
  {
   "cell_type": "markdown",
   "id": "bd605c65-a461-4860-996e-e39d7c4578d3",
   "metadata": {},
   "source": [
    "### What times of day were the tweets posted at?\n",
    "Since the number of unique times of day is likely very large, I bucketed the times by \"morning\", \"afternoon\", \"evning\", and \"overnight\" using my own judgement for the boundaries of each."
   ]
  },
  {
   "cell_type": "code",
   "execution_count": 18,
   "id": "118fb513-302d-4e79-a46a-4ab2c5be4b4a",
   "metadata": {},
   "outputs": [],
   "source": [
    "morning_df = term_df.set_index('datetime').between_time('05:00:00', '12:00:00')\n",
    "afternoon_df = term_df.set_index('datetime').between_time('12:00:00','17:00:00')\n",
    "evening_df = term_df.set_index('datetime').between_time('17:00:00','23:59:59')\n",
    "overnight_df = term_df.set_index('datetime').between_time('00:00:00','05:00:00')"
   ]
  },
  {
   "cell_type": "markdown",
   "id": "8bc5afa5-495d-40bd-983d-6f73295ded5b",
   "metadata": {},
   "source": [
    "### Which user posted the most tweets containing the term?"
   ]
  },
  {
   "cell_type": "code",
   "execution_count": 19,
   "id": "c2475bb5-58bc-40a0-9a24-cb553df06185",
   "metadata": {},
   "outputs": [
    {
     "data": {
      "text/plain": [
       "'RadDance'"
      ]
     },
     "execution_count": 19,
     "metadata": {},
     "output_type": "execute_result"
    }
   ],
   "source": [
    "term_df['author_handle'].value_counts().index[0]"
   ]
  },
  {
   "cell_type": "markdown",
   "id": "e1d783d7-2b32-467f-b135-8c9a8ae33a52",
   "metadata": {},
   "source": [
    "# Putting it into a method\n",
    "I interpreted the requirements of the assignment to mean that all of these questions could be answered easily by a single response payload from the API server. For this reason the following function was designed to take in a term and produce a json like in the following example:\n",
    "\n",
    "```\n",
    "{'term': 'music', # the term that was queried\n",
    " 'time_to_complete_query': 0.655991792678833, # The time between the api servers query request and receiving the response.\n",
    " 'counts_by_day': # each day the term appeared in a tweet and the number of times\n",
    "    [\n",
    "        {'date': '2022-01-04', 'count': 276},\n",
    "        {'date': '2022-01-05', 'count': 1219},\n",
    "        {'date': '2022-01-22', 'count': 14},\n",
    "        {'date': '2022-03-01', 'count': 24513}\n",
    "    ],\n",
    " 'users': 18532, # the number of unique users who tweeted the term\n",
    " 'avg_likes_per_tweet': 112, # the average like for posts that used the term\n",
    " 'place_ids': [], # the unique place ids of tweets that used the term\n",
    " 'times_of_day': # the number of times the term was used in a tweet posted at this time of day\n",
    "    {'morning': 25732,\n",
    "     'afternoon': 9,\n",
    "     'evening': 281,\n",
    "     'overnight': 0}\n",
    "    }\n",
    "}\n",
    "```"
   ]
  },
  {
   "cell_type": "code",
   "execution_count": 20,
   "id": "07aad7c3-27fb-4914-bac3-b778ee247567",
   "metadata": {},
   "outputs": [],
   "source": [
    "def query_term(term, tweets_col):\n",
    "    start_t = time.time()\n",
    "    term_df = get_tweets(term, tweets_col)\n",
    "    time_to_query = time.time() - start_t\n",
    "    # How many tweets were posted containing the term on each day?\n",
    "    daily_counts = tweet_count_per_day(term_df)\n",
    "\n",
    "    # How many unique users posted a tweet containing the term?\n",
    "    author_vc = term_df['author_id'].value_counts()\n",
    "    unique_users = len(author_vc)\n",
    "\n",
    "    # How many likes did tweets containing the term get, on average?\n",
    "    avg_likes_per_tweet = term_df['like_count'].mean()\n",
    "\n",
    "    # Where (in terms of place IDs) did the tweets come from?\n",
    "    place_ids = []\n",
    "    if 'place_id' in term_df.columns:\n",
    "        place_ids = list(term_df['place_id'].unique())\n",
    "\n",
    "    # What times of day were the tweets posted at?\n",
    "    term_df = term_df.set_index('datetime')\n",
    "    morning_df = term_df.between_time('05:00:00', '12:00:00')\n",
    "    afternoon_df = term_df.between_time('12:00:00','17:00:00')\n",
    "    evening_df = term_df.between_time('17:00:00','23:59:59')\n",
    "    overnight_df = term_df.between_time('00:00:00','05:00:00')\n",
    "\n",
    "    times_of_day = {'morning':len(morning_df),\n",
    "                    'afternoon':len(afternoon_df),\n",
    "                    'evening':len(evening_df),\n",
    "                    'overnight':len(overnight_df)}\n",
    "\n",
    "    most_used_by = term_df['author_handle'].value_counts().index[0]\n",
    "    \n",
    "    results = {'term':term,\n",
    "               'time_to_complete_query':time_to_query,\n",
    "               'counts_by_day':daily_counts,\n",
    "               'users':unique_users,\n",
    "               'avg_likes_per_tweet':int(avg_likes_per_tweet),\n",
    "               'place_ids':place_ids,\n",
    "               'times_of_day':times_of_day,\n",
    "               'most_used_by':most_used_by}\n",
    "    return results"
   ]
  },
  {
   "cell_type": "code",
   "execution_count": 21,
   "id": "fa0a9ca5-969b-404e-a9e3-7a8742c9c527",
   "metadata": {},
   "outputs": [
    {
     "name": "stdout",
     "output_type": "stream",
     "text": [
      "retreiving...\n",
      "Query took 0.15152907371520996 seconds.\n",
      "counting...\n"
     ]
    },
    {
     "data": {
      "text/plain": [
       "{'term': 'music',\n",
       " 'time_to_complete_query': 0.3309319019317627,\n",
       " 'counts_by_day': [{'date': '2022-01-04', 'count': 276},\n",
       "  {'date': '2022-01-05', 'count': 1219},\n",
       "  {'date': '2022-01-22', 'count': 14},\n",
       "  {'date': '2022-03-01', 'count': 24513}],\n",
       " 'users': 18532,\n",
       " 'avg_likes_per_tweet': 112,\n",
       " 'place_ids': [],\n",
       " 'times_of_day': {'morning': 25732,\n",
       "  'afternoon': 9,\n",
       "  'evening': 281,\n",
       "  'overnight': 0},\n",
       " 'most_used_by': 'RadDance'}"
      ]
     },
     "execution_count": 21,
     "metadata": {},
     "output_type": "execute_result"
    }
   ],
   "source": [
    "result = query_term(\"music\", tweets_col)\n",
    "result"
   ]
  },
  {
   "cell_type": "markdown",
   "id": "658592cf-8b4e-4a3a-b83a-84793b599903",
   "metadata": {},
   "source": [
    "# Check that it is json serializable"
   ]
  },
  {
   "cell_type": "code",
   "execution_count": 12,
   "id": "26fd3e36-4bd7-4729-b5f0-71da1f5b42b3",
   "metadata": {},
   "outputs": [],
   "source": [
    "import json"
   ]
  },
  {
   "cell_type": "code",
   "execution_count": 19,
   "id": "c5443f96-e7c7-41c4-b9ae-aa40c04dd76f",
   "metadata": {},
   "outputs": [
    {
     "data": {
      "text/plain": [
       "'{\"term\": \"music\", \"time_to_complete_query\": 0.6354808807373047, \"counts_by_day\": [{\"date\": \"2022-01-04\", \"count\": 276}, {\"date\": \"2022-01-05\", \"count\": 1219}, {\"date\": \"2022-01-22\", \"count\": 14}, {\"date\": \"2022-03-01\", \"count\": 24513}], \"users\": 18532, \"avg_likes_per_tweet\": 112.733, \"place_ids\": [], \"times_of_day\": {\"morning\": 25732, \"afternoon\": 9, \"evening\": 281, \"overnight\": 0}}'"
      ]
     },
     "execution_count": 19,
     "metadata": {},
     "output_type": "execute_result"
    }
   ],
   "source": [
    "json.dumps(result)"
   ]
  },
  {
   "cell_type": "markdown",
   "id": "532bed1d-36f4-4506-b302-6e062ec7504f",
   "metadata": {},
   "source": [
    "# Next Steps\n",
    "After working out these functions in a jupyter notebook, I copied them into `/api_server/db.py` to be used in the api server code."
   ]
  }
 ],
 "metadata": {
  "kernelspec": {
   "display_name": "Python 3 (ipykernel)",
   "language": "python",
   "name": "python3"
  },
  "language_info": {
   "codemirror_mode": {
    "name": "ipython",
    "version": 3
   },
   "file_extension": ".py",
   "mimetype": "text/x-python",
   "name": "python",
   "nbconvert_exporter": "python",
   "pygments_lexer": "ipython3",
   "version": "3.11.6"
  }
 },
 "nbformat": 4,
 "nbformat_minor": 5
}
